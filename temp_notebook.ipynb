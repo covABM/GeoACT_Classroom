{
 "cells": [
  {
   "cell_type": "code",
   "execution_count": 1105,
   "id": "90cc4a79",
   "metadata": {},
   "outputs": [
    {
     "name": "stdout",
     "output_type": "stream",
     "text": [
      "pygame 2.0.1 (SDL 2.0.14, Python 3.9.5)\n",
      "Hello from the pygame community. https://www.pygame.org/contribute.html\n"
     ]
    }
   ],
   "source": [
    "# imports\n",
    "import numpy as np\n",
    "import pandas as pd\n",
    "import matplotlib.pyplot as plt\n",
    "import matplotlib as mpl\n",
    "import copy\n",
    "import math\n",
    "import pygame"
   ]
  },
  {
   "cell_type": "code",
   "execution_count": 1107,
   "id": "0fd09db9",
   "metadata": {},
   "outputs": [],
   "source": [
    "# This notebook generates seating charts and rooms for bus_class\n",
    "# 1. make seating_small n = 25\n",
    "# 10 x 10 x 10 meters\n",
    "# 5 x 5\n",
    "x_list1 = []\n",
    "y_list1 = []\n",
    "xs = []\n",
    "ys = []\n",
    "for i in range(5):\n",
    "    for j in range(5):\n",
    "        x_list1.append(i * 20 + 10)\n",
    "        y_list1.append(j * 18 + 10)\n",
    "# plt.scatter(x_list1, y_list1)\n",
    "# plt.xlim(0, 99)\n",
    "# plt.ylim(0, 99)\n",
    "student_dict = {str(i): [x_list1[i], y_list1[i]] for i in range(25)}"
   ]
  },
  {
   "cell_type": "code",
   "execution_count": 1110,
   "id": "873ca91d",
   "metadata": {},
   "outputs": [],
   "source": [
    "# 2. seating_large n = 40\n",
    "# 50 x 30 x 10\n",
    "# 5 tables 8 people per table\n",
    "\n",
    "tables = 5\n",
    "students_per_table = 4\n",
    "student_locations = {i: [] for i in range(40)}\n",
    "table_locations = [[5, 20], [15, 10], [25, 20], [35, 10], [45, 20]]\n",
    "table_2locations = [[5, 10], [15, 20], [25, 10], [35, 20], [45, 10]]\n",
    "dir_list = [[-2, -2], [-2, 2], [2, -2], [2, 2]]\n",
    "dir_2list = [[2, 0], [0, 2], [-2, 0], [0, -2]]\n",
    "\n",
    "for i in range(tables):\n",
    "    for s in range(students_per_table):\n",
    "        idx = 4 * i + s\n",
    "        table_x, table_y = table_locations[i]\n",
    "        x, y = dir_list[s]\n",
    "        student_locations[idx].append(2 *(table_x + x))\n",
    "        student_locations[idx].append(4 * (table_y + y) - 10)\n",
    "\n",
    "for i in range(tables):\n",
    "    for s in range(students_per_table):\n",
    "        idx = 4 * i + s + 20\n",
    "        table_x, table_y = table_2locations[i]\n",
    "        x, y = dir_2list[s]\n",
    "        student_locations[idx].append(2 *(table_x + x))\n",
    "        student_locations[idx].append(4 * (table_y + y) - 10)\n",
    "        \n",
    "x_list = []\n",
    "y_list = []\n",
    "for i, j in list(student_locations.values()):\n",
    "    x_list.append(i)\n",
    "    y_list.append(j)\n",
    "# plt.scatter(x_list, y_list)\n",
    "# plt.xlim(0, 99)\n",
    "# plt.ylim(0, 99)\n",
    "student_dict = {str(i): [x_list[i], y_list[i]] for i in range(40)}\n",
    "# student_dict"
   ]
  },
  {
   "cell_type": "code",
   "execution_count": 672,
   "id": "4a4987e1",
   "metadata": {},
   "outputs": [],
   "source": [
    "# 3. seating_library n = 100\n",
    "# Scattered 2x2 seating with more seats than students"
   ]
  },
  {
   "cell_type": "code",
   "execution_count": 673,
   "id": "7b798445",
   "metadata": {},
   "outputs": [],
   "source": [
    "# 4. seating_gym n = 100\n",
    "# 2 sides of tiered seating- do math for occupancy"
   ]
  },
  {
   "cell_type": "code",
   "execution_count": 674,
   "id": "720af450",
   "metadata": {},
   "outputs": [],
   "source": [
    "# 5. seating_hallway n = 50\n",
    "# seating = initial positions = random\n",
    "# add and subtract students when x breaks min and max threshold\n",
    "# This and Bathroom should be a flow- students spend random amount of time from 0-2 minutes going through (sim. lockers)\n",
    "# behavior = straight line +x, vary y"
   ]
  },
  {
   "cell_type": "code",
   "execution_count": 675,
   "id": "92f61931",
   "metadata": {},
   "outputs": [],
   "source": [
    "# 6. seating_bathroom n = 5\n",
    "# initial positions = none"
   ]
  },
  {
   "cell_type": "code",
   "execution_count": 1177,
   "id": "8186d748",
   "metadata": {},
   "outputs": [
    {
     "ename": "IndentationError",
     "evalue": "unindent does not match any outer indentation level (<tokenize>, line 4)",
     "output_type": "error",
     "traceback": [
      "\u001b[1;36m  File \u001b[1;32m\"<tokenize>\"\u001b[1;36m, line \u001b[1;32m4\u001b[0m\n\u001b[1;33m    def angle_of_line(x1, y1, x2, y2):\u001b[0m\n\u001b[1;37m    ^\u001b[0m\n\u001b[1;31mIndentationError\u001b[0m\u001b[1;31m:\u001b[0m unindent does not match any outer indentation level\n"
     ]
    }
   ],
   "source": [
    "def angle_of_vector(x, y):\n",
    "        return pygame.math.Vector2(x, y).angle_to((1, 0))\n",
    "\n",
    "    def angle_of_line(x1, y1, x2, y2):\n",
    "        return angle_of_vector(x2-x1, y2-y1)"
   ]
  },
  {
   "cell_type": "code",
   "execution_count": 1252,
   "id": "0f7c8105",
   "metadata": {},
   "outputs": [],
   "source": [
    "# make varying input setup for ventilation\n",
    "w1 = (20, 0)\n",
    "w2 = (74, 0)\n",
    "door = (20, 96)\n",
    "vent = (50, 96) ############### make slider for this maybe ##########\n",
    "window_size = 8 # 40 centimeters diameter\n",
    "vent_size = 2 # 20 centimeters diameter\n",
    "\n",
    "def make_velocity_distance(window1, window2, door_location, vent_location):\n",
    "    # function describes: y such that slope(x) = y\n",
    "    temp = [[0 for col in range(100)] for row in range(100)] # size of room in 10 cm blocks\n",
    "    x1 =  range(100)\n",
    "    # up left\n",
    "    line1_ =  [(i**2 / 100) for i in x1]\n",
    "    ytemp = 100 - line1_[int(vent_location[0]- vent_size/2)]\n",
    "    y1 = [i + ytemp for i in line1_]\n",
    "    # These lines can be edited based on # of vents ##############################\n",
    "    # left\n",
    "    w1left = window1[0] - window_size/2\n",
    "    w1right = window1[0] + window_size/2\n",
    "    v1left = vent_location[0] - vent_size / 2\n",
    "    v1right = vent_location[0] + vent_size / 2\n",
    "    x2 = [w1left, v1left]\n",
    "    y2 = [0, 100]\n",
    "    m2 = 100/(v1left-w1left)\n",
    "    b2 = 0 - m2 * w1left\n",
    "    # down left\n",
    "    x3 = [w1right, v1right]\n",
    "    y3 = [0, 100]\n",
    "    m3 = 100/(v1right-w1right)\n",
    "    b3 = 0 - m3 * w1right\n",
    "    # down\n",
    "    w2left = window2[0] - window_size/2\n",
    "    w2right = window2[0] + window_size/2\n",
    "    x4 = [w2left, v1left]\n",
    "    m4 = 100/(v1left-w2left)\n",
    "    b4 = 0 - m4 * w2left\n",
    "    # down right\n",
    "    x5 = [w2right, v1right]\n",
    "    m5 = 100/(v1right-w2right)\n",
    "    b5 = 0 - m5 * w2right\n",
    "    # right\n",
    "    line6_ =  [((100 - i)**2 / 100) for i in x1]\n",
    "    ytemp = 100 - line6_[int(v1right)]\n",
    "    y6 = [i + ytemp for i in line6_] \n",
    "    # between windows\n",
    "    center = (window2[0] + window1[0]) / 2\n",
    "    x7 = [i for i in range(100)]\n",
    "    curve_down = [-(((i-center) / 5)**2) + center/4 for i in range(100)]\n",
    "    \n",
    "    # define direction plot\n",
    "    for i in range(100):\n",
    "        for j in range(100):\n",
    "            if j < curve_down[i]: # between windows\n",
    "                temp[j][i] = 3\n",
    "            elif (j > y1[i]): # top left\n",
    "                temp[j][i] = 7\n",
    "            elif (j > m2 * i + b2): # left edge\n",
    "                temp[j][i] = 4\n",
    "            elif (j > m3 * i + b3): # window 1\n",
    "                temp[j][i] = 1\n",
    "            elif (j < m4 * i + b4): # window 1 and 2\n",
    "                temp[j][i] = 2\n",
    "            elif (j < m5 * i + b5): # window 2\n",
    "                temp[j][i] = 3\n",
    "            elif (j < y6[i]): # window 2\n",
    "                temp[j][i] = 6 \n",
    "            else:  # top right\n",
    "                temp[j][i] = 9\n",
    "            # edges\n",
    "            \n",
    "            # corners\n",
    "            \n",
    "            # barriers\n",
    "    direction = temp.copy() # get from temp var\n",
    "#     r1 = mpl.patches.Rectangle((vent_location[0], 96), 10, 3, color='lightblue')\n",
    "    \n",
    "    #########################################\n",
    "    # velocity\n",
    "    i1 = [((i - vent_location[0]) / 3) **2 + 75 for i in xtemp]\n",
    "    i2 = [((i - vent_location[0]) / 3) **2 + 50 for i in xtemp]\n",
    "    i3 = [((i - vent_location[0]) / 3) **2 + 25 for i in xtemp]\n",
    "    i4 = [((i - vent_location[0]) / 3) **2 for i in xtemp]\n",
    "\n",
    "    i5 = [-(((i - w1[0])/3)**2) + 10 for i in xtemp]\n",
    "    i6 = [-(((i - w1[0])/3)**2) + 15 for i in xtemp]\n",
    "    i7 = [-(((i - w1[0])/3)**2) + 20 for i in xtemp]\n",
    "    i8 = [-(((i - w1[0])/3)**2) + 25 for i in xtemp]\n",
    "\n",
    "    i9 = [-(((i - w2[0])/3)**2) + 10 for i in xtemp]\n",
    "    i10 = [-(((i - w2[0])/3)**2) + 15 for i in xtemp]\n",
    "    i11 = [-(((i - w2[0])/3)**2) + 20 for i in xtemp]\n",
    "    i12 = [-(((i - w2[0])/3)**2) + 25 for i in xtemp]\n",
    "    blah = np.ones((100, 100))\n",
    "    for i in range(100):\n",
    "        for j in range(100):\n",
    "            if j < i5[i]:\n",
    "                blah[j][i] = 4\n",
    "            elif j < i6[i]:\n",
    "                blah[j][i] = 3.3\n",
    "            elif j < i7[i]:\n",
    "                blah[j][i] = 2.6\n",
    "            elif j < i8[i]:\n",
    "                blah[j][i] = 2\n",
    "            elif j < i9[i]:\n",
    "                blah[j][i] = 4\n",
    "            elif j < i10[i]:\n",
    "                blah[j][i] = 3.3\n",
    "            elif j < i11[i]:\n",
    "                blah[j][i] = 2.6\n",
    "            elif j < i12[i]:\n",
    "                blah[j][i] = 2\n",
    "\n",
    "            elif j > i1[i]:\n",
    "                blah[j][i] = 5\n",
    "            elif j > i2[i]:\n",
    "                blah[j][i] = 4\n",
    "            elif j > i3[i]:\n",
    "                blah[j][i] = 3\n",
    "            elif j > i4[i]:\n",
    "                blah[j][i] = 2\n",
    "            else:\n",
    "                blah[j][i] = 1\n",
    "    velocity = blah.copy()\n",
    "    \n",
    "    \n",
    "    return direction, velocity # and other useful variables"
   ]
  },
  {
   "cell_type": "code",
   "execution_count": 1259,
   "id": "c6b99722",
   "metadata": {},
   "outputs": [
    {
     "data": {
      "text/plain": [
       "Text(0.5, 1.0, 'Ventilation Directions')"
      ]
     },
     "execution_count": 1259,
     "metadata": {},
     "output_type": "execute_result"
    },
    {
     "data": {
      "image/png": "[encoded data removed]",
      "text/plain": [
       "<Figure size 432x288 with 2 Axes>"
      ]
     },
     "metadata": {
      "needs_background": "light"
     },
     "output_type": "display_data"
    }
   ],
   "source": [
    "direction_matrix, velocity_matrix = make_velocity_distance(w1, w2, door, vent)\n",
    "# velocity of air in room\n",
    "fig, ax = plt.subplots()\n",
    "directions = ax.matshow(direction_matrix, cmap=plt.get_cmap(\"coolwarm_r\")) # Directions\n",
    "plt.xlim(0, 99)\n",
    "plt.ylim(0, 99)    \n",
    "fig.colorbar(directions, ticks=np.linspace(1, 10, 10))\n",
    "plt.axis('off')\n",
    "plt.title('Ventilation Directions')\n",
    "# these correspond to DIRECTIONS"
   ]
  },
  {
   "cell_type": "code",
   "execution_count": 1255,
   "id": "99163b15",
   "metadata": {},
   "outputs": [
    {
     "data": {
      "text/plain": [
       "Text(0.5, 1.0, 'Ventilation Velocity')"
      ]
     },
     "execution_count": 1255,
     "metadata": {},
     "output_type": "execute_result"
    },
    {
     "data": {
      "image/png": "[encoded data removed]",
      "text/plain": [
       "<Figure size 432x288 with 2 Axes>"
      ]
     },
     "metadata": {
      "needs_background": "light"
     },
     "output_type": "display_data"
    }
   ],
   "source": [
    "direction_matrix, velocity_matrix = make_velocity_distance(w1, w2, door, vent)\n",
    "# velocity of air in room\n",
    "fig, ax = plt.subplots()\n",
    "directions = ax.matshow(velocity_matrix, cmap=plt.get_cmap(\"OrRd\")) # Directions\n",
    "plt.xlim(0, 99)\n",
    "plt.ylim(0, 99)    \n",
    "fig.colorbar(directions, ticks=np.linspace(1, 5, 5))\n",
    "plt.axis('off')\n",
    "plt.title('Ventilation Velocity')"
   ]
  },
  {
   "cell_type": "code",
   "execution_count": 1216,
   "id": "17433aaa",
   "metadata": {},
   "outputs": [
    {
     "data": {
      "text/plain": [
       "Text(0.5, 1.0, 'Ventilation Velocity')"
      ]
     },
     "execution_count": 1216,
     "metadata": {},
     "output_type": "execute_result"
    },
    {
     "data": {
      "image/png": "[encoded data removed]",
      "text/plain": [
       "<Figure size 432x288 with 1 Axes>"
      ]
     },
     "metadata": {
      "needs_background": "light"
     },
     "output_type": "display_data"
    }
   ],
   "source": [
    "fig, ax = plt.subplots()\n",
    "\n",
    "def angle_of_vector(x, y):\n",
    "    return pygame.math.Vector2(x, y).angle_to((1, 0))\n",
    "\n",
    "def angle_of_line(x1, y1, x2, y2):\n",
    "    return angle_of_vector(x2-x1, y2-y1)\n",
    "\n",
    "e1 = mpl.patches.Ellipse((50, 100), 50, 200, color=\"green\", angle=90 - angle_of_line(37, 0, 50, 100))\n",
    "e2 = mpl.patches.Ellipse((50, 100), 40, 150 , color=\"yellow\", angle=90 - angle_of_line(37, 0, 50, 100))\n",
    "e3 = mpl.patches.Ellipse((50, 100), 30, 100, color=\"orange\", angle=90 - angle_of_line(37, 0, 50, 100))\n",
    "e4 = mpl.patches.Ellipse((50, 100), 20, 50, color=\"red\", angle=90 - angle_of_line(37, 0, 50, 100))\n",
    "\n",
    "center = 30 # temp\n",
    "xtemp = range(100)\n",
    "vent_location = (50, 100)\n",
    "i1 = [((i - vent_location[0]) / 3) **2 + 75 for i in xtemp]\n",
    "i2 = [((i - vent_location[0]) / 3) **2 + 50 for i in xtemp]\n",
    "i3 = [((i - vent_location[0]) / 3) **2 + 25 for i in xtemp]\n",
    "i4 = [((i - vent_location[0]) / 3) **2 for i in xtemp]\n",
    "\n",
    "i5 = [-(((i - w1[0])/3)**2) + 10 for i in xtemp]\n",
    "i6 = [-(((i - w1[0])/3)**2) + 15 for i in xtemp]\n",
    "i7 = [-(((i - w1[0])/3)**2) + 20 for i in xtemp]\n",
    "i8 = [-(((i - w1[0])/3)**2) + 25 for i in xtemp]\n",
    "\n",
    "i9 = [-(((i - w2[0])/3)**2) + 10 for i in xtemp]\n",
    "i10 = [-(((i - w2[0])/3)**2) + 15 for i in xtemp]\n",
    "i11 = [-(((i - w2[0])/3)**2) + 20 for i in xtemp]\n",
    "i12 = [-(((i - w2[0])/3)**2) + 25 for i in xtemp]\n",
    "\n",
    "plt.plot(xtemp, i1, color=\"red\", label='V = 5')\n",
    "plt.plot(xtemp, i2, color=\"orange\", label='V = 4')\n",
    "plt.plot(xtemp, i3, color=\"yellow\", label='V = 3')\n",
    "plt.plot(xtemp, i4, color=\"green\", label='V = 2')\n",
    "plt.plot([1], [1], color=\"white\", label='V = 1')\n",
    "\n",
    "plt.plot(xtemp, i5, color=\"red\")\n",
    "plt.plot(xtemp, i6, color=\"orange\")\n",
    "plt.plot(xtemp, i7, color=\"yellow\")\n",
    "plt.plot(xtemp, i8, color=\"green\")\n",
    "plt.plot(xtemp, i9, color=\"red\")\n",
    "plt.plot(xtemp, i10, color=\"orange\")\n",
    "plt.plot(xtemp, i11, color=\"yellow\")\n",
    "plt.plot(xtemp, i12, color=\"green\")\n",
    "\n",
    "# ax.add_patch(e1)\n",
    "# ax.add_patch(e2)\n",
    "# ax.add_patch(e3)\n",
    "# ax.add_patch(e4)\n",
    "plt.xlim(0, 99)\n",
    "plt.ylim(0, 99)\n",
    "plt.axis('off')\n",
    "plt.legend()\n",
    "plt.title('Ventilation Velocity')"
   ]
  },
  {
   "cell_type": "code",
   "execution_count": 1220,
   "id": "3d389487",
   "metadata": {},
   "outputs": [
    {
     "data": {
      "text/plain": [
       "(0.0, 100.0)"
      ]
     },
     "execution_count": 1220,
     "metadata": {},
     "output_type": "execute_result"
    },
    {
     "data": {
      "image/png": "[encoded data removed]",
      "text/plain": [
       "<Figure size 288x288 with 2 Axes>"
      ]
     },
     "metadata": {
      "needs_background": "light"
     },
     "output_type": "display_data"
    }
   ],
   "source": [
    "blah = np.ones((100, 100))\n",
    "for i in range(100):\n",
    "    for j in range(100):\n",
    "        if j < i5[i]:\n",
    "            blah[j][i] = 4\n",
    "        elif j < i6[i]:\n",
    "            blah[j][i] = 3.3\n",
    "        elif j < i7[i]:\n",
    "            blah[j][i] = 2.6\n",
    "        elif j < i8[i]:\n",
    "            blah[j][i] = 2\n",
    "        elif j < i9[i]:\n",
    "            blah[j][i] = 4\n",
    "        elif j < i10[i]:\n",
    "            blah[j][i] = 3.3\n",
    "        elif j < i11[i]:\n",
    "            blah[j][i] = 2.6\n",
    "        elif j < i12[i]:\n",
    "            blah[j][i] = 2\n",
    "            \n",
    "        elif j > i1[i]:\n",
    "            blah[j][i] = 5\n",
    "        elif j > i2[i]:\n",
    "            blah[j][i] = 4\n",
    "        elif j > i3[i]:\n",
    "            blah[j][i] = 3\n",
    "        elif j > i4[i]:\n",
    "            blah[j][i] = 2\n",
    "        else:\n",
    "            blah[j][i] = 1\n",
    "            \n",
    "plt.matshow(blah, cmap=plt.get_cmap(\"OrRd\"))\n",
    "plt.colorbar()\n",
    "plt.xlim(0, 100)\n",
    "plt.ylim(0, 100)"
   ]
  },
  {
   "cell_type": "code",
   "execution_count": 1244,
   "id": "ab42756a",
   "metadata": {},
   "outputs": [],
   "source": [
    "import sys\n",
    "# sys.path.insert(0, 'C:\\\\Users\\\\Bailey\\\\Desktop\\\\Github files\\\\GeoACT_Classroom\\src')\n",
    "from infection import generate_infectivity_curves, plot_infectivity_curves, return_aerosol_transmission_rate\n"
   ]
  },
  {
   "cell_type": "code",
   "execution_count": 1274,
   "id": "df84a43b",
   "metadata": {
    "scrolled": true
   },
   "outputs": [
    {
     "ename": "TypeError",
     "evalue": "list indices must be integers or slices, not numpy.float64",
     "output_type": "error",
     "traceback": [
      "\u001b[1;31m---------------------------------------------------------------------------\u001b[0m",
      "\u001b[1;31mTypeError\u001b[0m                                 Traceback (most recent call last)",
      "\u001b[1;32m<ipython-input-1274-de509002de91>\u001b[0m in \u001b[0;36m<module>\u001b[1;34m\u001b[0m\n\u001b[0;32m      6\u001b[0m \u001b[0mclass_flow_pos\u001b[0m \u001b[1;33m=\u001b[0m \u001b[0mload_parameters\u001b[0m\u001b[1;33m(\u001b[0m\u001b[1;34m'config/small_classroom.json'\u001b[0m\u001b[1;33m)\u001b[0m\u001b[1;33m\u001b[0m\u001b[1;33m\u001b[0m\u001b[0m\n\u001b[0;32m      7\u001b[0m \u001b[0mclass_flow_velocity\u001b[0m\u001b[1;33m,\u001b[0m \u001b[0mclass_flow_direction\u001b[0m \u001b[1;33m=\u001b[0m \u001b[0mvelocity_matrix\u001b[0m\u001b[1;33m,\u001b[0m \u001b[0mdirection_matrix\u001b[0m\u001b[1;33m\u001b[0m\u001b[1;33m\u001b[0m\u001b[0m\n\u001b[1;32m----> 8\u001b[1;33m \u001b[0mtemp\u001b[0m\u001b[1;33m,\u001b[0m \u001b[0minitial\u001b[0m \u001b[1;33m=\u001b[0m \u001b[0mmake_new_heat\u001b[0m\u001b[1;33m(\u001b[0m\u001b[0mtemp\u001b[0m\u001b[1;33m,\u001b[0m \u001b[0mclass_flow_pos\u001b[0m\u001b[1;33m,\u001b[0m \u001b[0mclass_flow_velocity\u001b[0m\u001b[1;33m,\u001b[0m \u001b[0mclass_flow_direction\u001b[0m\u001b[1;33m,\u001b[0m \u001b[0minit_infected_\u001b[0m\u001b[1;33m=\u001b[0m\u001b[1;32mNone\u001b[0m\u001b[1;33m)\u001b[0m\u001b[1;33m\u001b[0m\u001b[1;33m\u001b[0m\u001b[0m\n\u001b[0m\u001b[0;32m      9\u001b[0m \u001b[1;33m\u001b[0m\u001b[0m\n",
      "\u001b[1;32m~\\Desktop\\Github files\\GeoACT_Classroom\\src\\classroom.py\u001b[0m in \u001b[0;36mmake_new_heat\u001b[1;34m(old, class_flow_pos, class_flow_velocity, class_flow_direction, init_infected_)\u001b[0m\n\u001b[0;32m    178\u001b[0m     \u001b[0mplt\u001b[0m\u001b[1;33m.\u001b[0m\u001b[0maxis\u001b[0m\u001b[1;33m(\u001b[0m\u001b[1;34m'off'\u001b[0m\u001b[1;33m)\u001b[0m\u001b[1;33m\u001b[0m\u001b[1;33m\u001b[0m\u001b[0m\n\u001b[0;32m    179\u001b[0m     \u001b[0mplt\u001b[0m\u001b[1;33m.\u001b[0m\u001b[0msavefig\u001b[0m\u001b[1;33m(\u001b[0m\u001b[1;34m'results/direction_velocity.png'\u001b[0m\u001b[1;33m,\u001b[0m \u001b[0mdpi\u001b[0m\u001b[1;33m=\u001b[0m\u001b[1;36m300\u001b[0m\u001b[1;33m)\u001b[0m\u001b[1;33m\u001b[0m\u001b[1;33m\u001b[0m\u001b[0m\n\u001b[1;32m--> 180\u001b[1;33m \u001b[1;33m\u001b[0m\u001b[0m\n\u001b[0m\u001b[0;32m    181\u001b[0m     \u001b[1;32mreturn\u001b[0m \u001b[0mtemp_array\u001b[0m\u001b[1;33m,\u001b[0m \u001b[0mavg_array\u001b[0m\u001b[1;33m\u001b[0m\u001b[1;33m\u001b[0m\u001b[0m\n\u001b[0;32m    182\u001b[0m \u001b[1;33m\u001b[0m\u001b[0m\n",
      "\u001b[1;32m~\\Desktop\\Github files\\GeoACT_Classroom\\src\\classroom.py\u001b[0m in \u001b[0;36mget_incoming\u001b[1;34m(x, y, old, class_flow_direction, class_flow_velocity)\u001b[0m\n\u001b[0;32m    125\u001b[0m     '''\n\u001b[0;32m    126\u001b[0m     \u001b[1;32mif\u001b[0m\u001b[0;31m \u001b[0m\u001b[0;31m!\u001b[0m\u001b[0minit_infected_\u001b[0m\u001b[1;33m:\u001b[0m\u001b[1;33m\u001b[0m\u001b[1;33m\u001b[0m\u001b[0m\n\u001b[1;32m--> 127\u001b[1;33m         \u001b[0mprint\u001b[0m\u001b[1;33m(\u001b[0m\u001b[0mlist\u001b[0m\u001b[1;33m(\u001b[0m\u001b[0mclass_flow_pos\u001b[0m\u001b[1;33m.\u001b[0m\u001b[0mkeys\u001b[0m\u001b[1;33m(\u001b[0m\u001b[1;33m)\u001b[0m\u001b[1;33m)\u001b[0m\u001b[1;33m)\u001b[0m\u001b[1;33m\u001b[0m\u001b[1;33m\u001b[0m\u001b[0m\n\u001b[0m\u001b[0;32m    128\u001b[0m         \u001b[0minit_infected_\u001b[0m \u001b[1;33m=\u001b[0m \u001b[0mnp\u001b[0m\u001b[1;33m.\u001b[0m\u001b[0mrandom\u001b[0m\u001b[1;33m.\u001b[0m\u001b[0mchoice\u001b[0m\u001b[1;33m(\u001b[0m\u001b[0mlist\u001b[0m\u001b[1;33m(\u001b[0m\u001b[0mclass_flow_pos\u001b[0m\u001b[1;33m.\u001b[0m\u001b[0mkeys\u001b[0m\u001b[1;33m(\u001b[0m\u001b[1;33m)\u001b[0m\u001b[1;33m)\u001b[0m\u001b[1;33m)\u001b[0m\u001b[1;33m\u001b[0m\u001b[1;33m\u001b[0m\u001b[0m\n\u001b[0;32m    129\u001b[0m     \u001b[1;32melse\u001b[0m\u001b[1;33m:\u001b[0m\u001b[1;33m\u001b[0m\u001b[1;33m\u001b[0m\u001b[0m\n",
      "\u001b[1;31mTypeError\u001b[0m: list indices must be integers or slices, not numpy.float64"
     ]
    }
   ],
   "source": [
    "from classroom import *\n",
    "room_size = \"100x100\"\n",
    "array_size = [int(room_size.split('x')[0]), int(room_size.split('x')[1])]\n",
    "nothings = np.zeros(array_size)\n",
    "avg_array = nothings.copy()\n",
    "class_flow_pos = load_parameters('config/small_classroom.json')\n",
    "class_flow_velocity, class_flow_direction = velocity_matrix, direction_matrix\n",
    "temp, initial = make_new_heat(temp, class_flow_pos, class_flow_velocity, class_flow_direction, init_infected_=None)\n",
    "        "
   ]
  },
  {
   "cell_type": "code",
   "execution_count": 1283,
   "id": "83be31a2",
   "metadata": {},
   "outputs": [
    {
     "data": {
      "text/plain": [
       "8"
      ]
     },
     "execution_count": 1283,
     "metadata": {},
     "output_type": "execute_result"
    }
   ],
   "source": [
    "np.random.choice(26)"
   ]
  },
  {
   "cell_type": "code",
   "execution_count": 1263,
   "id": "bb3967db",
   "metadata": {},
   "outputs": [
    {
     "data": {
      "text/plain": [
       "['aerosol.json',\n",
       " 'default.json',\n",
       " 'large_classroom.json',\n",
       " 'neighbor_logic.json',\n",
       " 'small_classroom.json']"
      ]
     },
     "execution_count": 1263,
     "metadata": {},
     "output_type": "execute_result"
    }
   ],
   "source": [
    "os.listdir('config')"
   ]
  },
  {
   "cell_type": "code",
   "execution_count": 1285,
   "id": "846822ea",
   "metadata": {},
   "outputs": [
    {
     "data": {
      "text/plain": [
       "(0.0, 99.0)"
      ]
     },
     "execution_count": 1285,
     "metadata": {},
     "output_type": "execute_result"
    },
    {
     "data": {
      "image/png": "[encoded data removed]",
      "text/plain": [
       "<Figure size 288x288 with 1 Axes>"
      ]
     },
     "metadata": {
      "needs_background": "light"
     },
     "output_type": "display_data"
    }
   ],
   "source": [
    "plt.matshow(velocity_matrix)\n",
    "plt.xlim(0, 99)\n",
    "plt.ylim(0, 99)"
   ]
  },
  {
   "cell_type": "code",
   "execution_count": 1286,
   "id": "c1134695",
   "metadata": {},
   "outputs": [
    {
     "data": {
      "text/plain": [
       "(0.0, 99.0)"
      ]
     },
     "execution_count": 1286,
     "metadata": {},
     "output_type": "execute_result"
    },
    {
     "data": {
      "image/png": "[encoded data removed]",
      "text/plain": [
       "<Figure size 288x288 with 1 Axes>"
      ]
     },
     "metadata": {
      "needs_background": "light"
     },
     "output_type": "display_data"
    }
   ],
   "source": [
    "plt.matshow(direction_matrix)\n",
    "plt.xlim(0, 99)\n",
    "plt.ylim(0, 99)"
   ]
  },
  {
   "cell_type": "code",
   "execution_count": null,
   "id": "f0bc8242",
   "metadata": {},
   "outputs": [],
   "source": [
    "# figure out concentration distribution"
   ]
  }
 ],
 "metadata": {
  "kernelspec": {
   "display_name": "Python 3",
   "language": "python",
   "name": "python3"
  },
  "language_info": {
   "codemirror_mode": {
    "name": "ipython",
    "version": 3
   },
   "file_extension": ".py",
   "mimetype": "text/x-python",
   "name": "python",
   "nbconvert_exporter": "python",
   "pygments_lexer": "ipython3",
   "version": "3.9.5"
  }
 },
 "nbformat": 4,
 "nbformat_minor": 5
}
