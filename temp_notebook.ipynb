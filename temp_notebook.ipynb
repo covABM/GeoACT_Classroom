{
 "cells": [
  {
   "cell_type": "code",
   "execution_count": 531,
   "id": "90cc4a79",
   "metadata": {},
   "outputs": [],
   "source": [
    "# imports\n",
    "import numpy as np\n",
    "import pandas as pd\n",
    "import matplotlib.pyplot as plt\n",
    "import matplotlib as mpl"
   ]
  },
  {
   "cell_type": "code",
   "execution_count": 742,
   "id": "0fd09db9",
   "metadata": {},
   "outputs": [
    {
     "data": {
      "text/plain": [
       "{'0': [10, 10],\n",
       " '1': [10, 28],\n",
       " '2': [10, 46],\n",
       " '3': [10, 64],\n",
       " '4': [10, 82],\n",
       " '5': [30, 10],\n",
       " '6': [30, 28],\n",
       " '7': [30, 46],\n",
       " '8': [30, 64],\n",
       " '9': [30, 82],\n",
       " '10': [50, 10],\n",
       " '11': [50, 28],\n",
       " '12': [50, 46],\n",
       " '13': [50, 64],\n",
       " '14': [50, 82],\n",
       " '15': [70, 10],\n",
       " '16': [70, 28],\n",
       " '17': [70, 46],\n",
       " '18': [70, 64],\n",
       " '19': [70, 82],\n",
       " '20': [90, 10],\n",
       " '21': [90, 28],\n",
       " '22': [90, 46],\n",
       " '23': [90, 64],\n",
       " '24': [90, 82]}"
      ]
     },
     "execution_count": 742,
     "metadata": {},
     "output_type": "execute_result"
    },
    {
     "data": {
      "image/png": "[encoded data removed]",
      "text/plain": [
       "<Figure size 432x288 with 1 Axes>"
      ]
     },
     "metadata": {
      "needs_background": "light"
     },
     "output_type": "display_data"
    }
   ],
   "source": [
    "# This notebook generates seating charts and rooms for bus_class\n",
    "# 1. make seating_small n = 25\n",
    "# 10 x 10 x 10 meters\n",
    "# 5 x 5\n",
    "x_list1 = []\n",
    "y_list1 = []\n",
    "xs = []\n",
    "ys = []\n",
    "for i in range(5):\n",
    "    for j in range(5):\n",
    "        x_list1.append(i * 20 + 10)\n",
    "        y_list1.append(j * 18 + 10)\n",
    "plt.scatter(x_list1, y_list1)\n",
    "plt.xlim(0, 99)\n",
    "plt.ylim(0, 99)\n",
    "student_dict = {str(i): [x_list1[i], y_list1[i]] for i in range(25)}\n",
    "student_dict"
   ]
  },
  {
   "cell_type": "code",
   "execution_count": 743,
   "id": "873ca91d",
   "metadata": {},
   "outputs": [
    {
     "name": "stdout",
     "output_type": "stream",
     "text": [
      "{0: [6, 62], 1: [6, 78], 2: [14, 62], 3: [14, 78], 4: [26, 22], 5: [26, 38], 6: [34, 22], 7: [34, 38], 8: [46, 62], 9: [46, 78], 10: [54, 62], 11: [54, 78], 12: [66, 22], 13: [66, 38], 14: [74, 22], 15: [74, 38], 16: [86, 62], 17: [86, 78], 18: [94, 62], 19: [94, 78], 20: [14, 30], 21: [10, 38], 22: [6, 30], 23: [10, 22], 24: [34, 70], 25: [30, 78], 26: [26, 70], 27: [30, 62], 28: [54, 30], 29: [50, 38], 30: [46, 30], 31: [50, 22], 32: [74, 70], 33: [70, 78], 34: [66, 70], 35: [70, 62], 36: [94, 30], 37: [90, 38], 38: [86, 30], 39: [90, 22]}\n"
     ]
    },
    {
     "data": {
      "text/plain": [
       "{'0': [6, 62],\n",
       " '1': [6, 78],\n",
       " '2': [14, 62],\n",
       " '3': [14, 78],\n",
       " '4': [26, 22],\n",
       " '5': [26, 38],\n",
       " '6': [34, 22],\n",
       " '7': [34, 38],\n",
       " '8': [46, 62],\n",
       " '9': [46, 78],\n",
       " '10': [54, 62],\n",
       " '11': [54, 78],\n",
       " '12': [66, 22],\n",
       " '13': [66, 38],\n",
       " '14': [74, 22],\n",
       " '15': [74, 38],\n",
       " '16': [86, 62],\n",
       " '17': [86, 78],\n",
       " '18': [94, 62],\n",
       " '19': [94, 78],\n",
       " '20': [14, 30],\n",
       " '21': [10, 38],\n",
       " '22': [6, 30],\n",
       " '23': [10, 22],\n",
       " '24': [34, 70],\n",
       " '25': [30, 78],\n",
       " '26': [26, 70],\n",
       " '27': [30, 62],\n",
       " '28': [54, 30],\n",
       " '29': [50, 38],\n",
       " '30': [46, 30],\n",
       " '31': [50, 22],\n",
       " '32': [74, 70],\n",
       " '33': [70, 78],\n",
       " '34': [66, 70],\n",
       " '35': [70, 62],\n",
       " '36': [94, 30],\n",
       " '37': [90, 38],\n",
       " '38': [86, 30],\n",
       " '39': [90, 22]}"
      ]
     },
     "execution_count": 743,
     "metadata": {},
     "output_type": "execute_result"
    },
    {
     "data": {
      "image/png": "[encoded data removed]",
      "text/plain": [
       "<Figure size 432x288 with 1 Axes>"
      ]
     },
     "metadata": {
      "needs_background": "light"
     },
     "output_type": "display_data"
    }
   ],
   "source": [
    "# 2. seating_large n = 40\n",
    "# 50 x 30 x 10\n",
    "# 5 tables 8 people per table\n",
    "\n",
    "tables = 5\n",
    "students_per_table = 4\n",
    "student_locations = {i: [] for i in range(40)}\n",
    "table_locations = [[5, 20], [15, 10], [25, 20], [35, 10], [45, 20]]\n",
    "table_2locations = [[5, 10], [15, 20], [25, 10], [35, 20], [45, 10]]\n",
    "dir_list = [[-2, -2], [-2, 2], [2, -2], [2, 2]]\n",
    "dir_2list = [[2, 0], [0, 2], [-2, 0], [0, -2]]\n",
    "\n",
    "for i in range(tables):\n",
    "    for s in range(students_per_table):\n",
    "        idx = 4 * i + s\n",
    "        table_x, table_y = table_locations[i]\n",
    "        x, y = dir_list[s]\n",
    "        student_locations[idx].append(2 *(table_x + x))\n",
    "        student_locations[idx].append(4 * (table_y + y) - 10)\n",
    "\n",
    "for i in range(tables):\n",
    "    for s in range(students_per_table):\n",
    "        idx = 4 * i + s + 20\n",
    "        table_x, table_y = table_2locations[i]\n",
    "        x, y = dir_2list[s]\n",
    "        student_locations[idx].append(2 *(table_x + x))\n",
    "        student_locations[idx].append(4 * (table_y + y) - 10)\n",
    "print(student_locations)\n",
    "        \n",
    "x_list = []\n",
    "y_list = []\n",
    "for i, j in list(student_locations.values()):\n",
    "    x_list.append(i)\n",
    "    y_list.append(j)\n",
    "plt.scatter(x_list, y_list)\n",
    "plt.xlim(0, 99)\n",
    "plt.ylim(0, 99)\n",
    "student_dict = {str(i): [x_list[i], y_list[i]] for i in range(40)}\n",
    "student_dict"
   ]
  },
  {
   "cell_type": "code",
   "execution_count": 672,
   "id": "4a4987e1",
   "metadata": {},
   "outputs": [],
   "source": [
    "# 3. seating_library n = 100\n",
    "# Scattered 2x2 seating with more seats than students"
   ]
  },
  {
   "cell_type": "code",
   "execution_count": 673,
   "id": "7b798445",
   "metadata": {},
   "outputs": [],
   "source": [
    "# 4. seating_gym n = 100\n",
    "# 2 sides of tiered seating- do math for occupancy"
   ]
  },
  {
   "cell_type": "code",
   "execution_count": 674,
   "id": "720af450",
   "metadata": {},
   "outputs": [],
   "source": [
    "# 5. seating_hallway n = 50\n",
    "# seating = initial positions = random\n",
    "# add and subtract students when x breaks min and max threshold\n",
    "# This and Bathroom should be a flow- students spend random amount of time from 0-2 minutes going through (sim. lockers)\n",
    "# behavior = straight line +x, vary y"
   ]
  },
  {
   "cell_type": "code",
   "execution_count": 675,
   "id": "92f61931",
   "metadata": {},
   "outputs": [],
   "source": [
    "# 6. seating_bathroom n = 5\n",
    "# initial positions = none"
   ]
  },
  {
   "cell_type": "code",
   "execution_count": 737,
   "id": "07f6987b",
   "metadata": {},
   "outputs": [
    {
     "data": {
      "text/plain": [
       "(0.0, 9.0)"
      ]
     },
     "execution_count": 737,
     "metadata": {},
     "output_type": "execute_result"
    },
    {
     "data": {
      "image/png": "[encoded data removed]",
      "text/plain": [
       "<Figure size 432x288 with 1 Axes>"
      ]
     },
     "metadata": {
      "needs_background": "light"
     },
     "output_type": "display_data"
    }
   ],
   "source": [
    "# make airflow function for small\n",
    "x = range(10)\n",
    "y1 = [(i**2 / 12) + 6 for i in x]\n",
    "y2 = [(i-13)**2 / 12 + 6 for i in x]\n",
    "y3 = [i * 2 - 3 for i in x]\n",
    "y4 = [i * 2 - 5 for i in x]\n",
    "y5 = [-(i * 16) + 120 for i in x]\n",
    "y6 = [-(i * 16) + 105 for i in x]\n",
    "y7 = [-((i-5)** 2)/2 + 1 for i in x]\n",
    "\n",
    "# (1, 0) t\n",
    "plt.plot(x, y1, color='red') # vent left\n",
    "plt.plot(x, y2, color='red') # vent right\n",
    "plt.plot(x, y3, color='blue') # window 1 left\n",
    "plt.plot(x, y4, color='blue') # window 1 right\n",
    "plt.plot(x, y5, color='green') # window 2 left\n",
    "plt.plot(x, y6, color='green') # window 2 right\n",
    "plt.plot(x, y7, color='yellow') # window 2 right\n",
    "# velocity\n",
    "plt.xlim(0, 9)\n",
    "plt.ylim(0, 9)"
   ]
  },
  {
   "cell_type": "code",
   "execution_count": 738,
   "id": "8866de03",
   "metadata": {},
   "outputs": [
    {
     "name": "stdout",
     "output_type": "stream",
     "text": [
      "[0.0, 0.1, 0.2, 0.3, 0.4, 0.5, 0.6, 0.7, 0.8, 0.9, 1.0, 1.1, 1.2, 1.3, 1.4, 1.5, 1.6, 1.7, 1.8, 1.9, 2.0, 2.1, 2.2, 2.3, 2.4, 2.5, 2.6, 2.7, 2.8, 2.9, 3.0, 3.1, 3.2, 3.3, 3.4, 3.5, 3.6, 3.7, 3.8, 3.9, 4.0, 4.1, 4.2, 4.3, 4.4, 4.5, 4.6, 4.7, 4.8, 4.9, 5.0, 5.1, 5.2, 5.3, 5.4, 5.5, 5.6, 5.7, 5.8, 5.9, 6.0, 6.1, 6.2, 6.3, 6.4, 6.5, 6.6, 6.7, 6.8, 6.9, 7.0, 7.1, 7.2, 7.3, 7.4, 7.5, 7.6, 7.7, 7.8, 7.9, 8.0, 8.1, 8.2, 8.3, 8.4, 8.5, 8.6, 8.7, 8.8, 8.9, 9.0, 9.1, 9.2, 9.3, 9.4, 9.5, 9.6, 9.7, 9.8, 9.9]\n"
     ]
    },
    {
     "data": {
      "text/plain": [
       "<matplotlib.legend.Legend at 0x1b018ef7880>"
      ]
     },
     "execution_count": 738,
     "metadata": {},
     "output_type": "execute_result"
    },
    {
     "data": {
      "image/png": "[encoded data removed]",
      "text/plain": [
       "<Figure size 432x288 with 1 Axes>"
      ]
     },
     "metadata": {
      "needs_background": "light"
     },
     "output_type": "display_data"
    }
   ],
   "source": [
    "# make airflow function for small\n",
    "# use this to fine tune the above for student seating\n",
    "x2 = [i / 10 for i in range(100)]\n",
    "print(x2)\n",
    "y12 = [(i**2 / 10) + 6 for i in x2]\n",
    "y22 = [(i-14)**2 / 10 + 6 for i in x2]\n",
    "\n",
    "y32 = [(i - 7) * 10  for i in x2]\n",
    "y42 = [(i - 6) * 10 for i in x2]\n",
    "\n",
    "\n",
    "y32 = [i * 2 - 2 for i in x2]\n",
    "y42 = [i * 2 - 6 for i in x2]\n",
    "\n",
    "y52 = [-(i * 16) + 140 for i in x2]\n",
    "y62 = [-(i * 16) + 105 for i in x2]\n",
    "def vents_small_10cm_boxes():\n",
    "    room_matrix = [[1 for col in range(100)] for row in range(100)]\n",
    "    for i in range(100):\n",
    "        for j in range(100):\n",
    "            if j / 10 <= y12[i]:\n",
    "                room_matrix[j][i] += 1\n",
    "            if j / 10 >= y22[i]:\n",
    "                room_matrix[j][i] -= 1\n",
    "            # left window\n",
    "            if j / 10 < y32[i]:\n",
    "                room_matrix[j][i] += 1\n",
    "            if j / 10 > y42[i]:\n",
    "                room_matrix[j][i] -= 1\n",
    "#             # right window\n",
    "            if j / 10 < y52[i]:\n",
    "                room_matrix[j][i] += 1\n",
    "            if j / 10 > y62[i]:\n",
    "                room_matrix[j][i] -= 1\n",
    "#             between windows\n",
    "            if (j/10 > y42[i]) and (j/10 > y62[i]):\n",
    "                room_matrix[j][i] += 2\n",
    "            if (j / 10 + 2 < y42[i]) and (j / 10  + 20 < y62[i]):\n",
    "                room_matrix[j][i] -= 1\n",
    "    return room_matrix\n",
    "    \n",
    "cm10_velocity = vents_small_10cm_boxes()\n",
    "fig, ax = plt.subplots()\n",
    "ax.matshow(cm10_velocity, cmap=plt.get_cmap(\"OrRd\"))\n",
    "# windows\n",
    "ax.add_patch(mpl.patches.Rectangle((10, 0), 20, 3, facecolor=\"lightblue\", label=\"Window 1\"))\n",
    "ax.add_patch(mpl.patches.Rectangle((65, 0), 23, 3, facecolor=\"lightblue\", label=\"Window 2\"))\n",
    "# door\n",
    "ax.add_patch(mpl.patches.Rectangle((20, 96), 20, 3, facecolor=\"green\", label=\"Door\"))\n",
    "# Vent\n",
    "ax.add_patch(mpl.patches.Rectangle((60, 96), 20, 3, facecolor=\"blue\", label=\"Vent\"))\n",
    "\n",
    "# Flow Arrows:\n",
    "# Top Left\n",
    "ax.arrow(40, 85, -5, 5, head_length=3, head_width=3, edgecolor='blue')\n",
    "ax.arrow(20, 70, -5, 5, head_length=3, head_width=3, edgecolor='blue')\n",
    "\n",
    "ax.arrow(25, 55, -5, 0, head_length=3, head_width=3, edgecolor='blue')\n",
    "ax.arrow(15, 35, -5, 0, head_length=3, head_width=3, edgecolor='blue')\n",
    "\n",
    "ax.arrow(55, 65, -5, -5, head_length=3, head_width=3, edgecolor='blue')\n",
    "ax.arrow(40, 40, -5, -5, head_length=3, head_width=3, edgecolor='blue')\n",
    "\n",
    "ax.arrow(65, 90, 0, -5, head_length=3, head_width=3, edgecolor='blue')\n",
    "ax.arrow(57, 40, 0, -5, head_length=3, head_width=3, edgecolor='blue')\n",
    "ax.arrow(77, 10, 0, -5, head_length=3, head_width=3, edgecolor='blue')\n",
    "ax.arrow(23, 10, 0, -5, head_length=3, head_width=3, edgecolor='blue')\n",
    "\n",
    "ax.arrow(70, 65, 5, -5, head_length=3, head_width=3, edgecolor='blue')\n",
    "ax.arrow(73, 40, 5, -5, head_length=3, head_width=3, edgecolor='blue')\n",
    "\n",
    "ax.arrow(87, 55, 5, 0, head_length=3, head_width=3, edgecolor='blue')\n",
    "ax.arrow(90, 35, 5, 0, head_length=3, head_width=3, edgecolor='blue')\n",
    "\n",
    "ax.arrow(90, 90, 5, 5, head_length=3, head_width=3, edgecolor='blue')\n",
    "\n",
    "\n",
    "\n",
    "ax.set_xlim(0, 99)\n",
    "ax.set_ylim(0, 99)\n",
    "plt.axis('off')\n",
    "plt.scatter(x_list1, y_list1, c='white', s=40)\n",
    "plt.scatter(x_list1, y_list1, c='black', s=20, label='Seated Students')\n",
    "plt.legend(bbox_to_anchor=(1.05, 1), loc='upper left')"
   ]
  },
  {
   "cell_type": "code",
   "execution_count": 745,
   "id": "2e614ea5",
   "metadata": {},
   "outputs": [
    {
     "data": {
      "text/plain": [
       "array([[2, 2, 2, ..., 2, 2, 2],\n",
       "       [2, 2, 2, ..., 2, 2, 2],\n",
       "       [2, 2, 2, ..., 2, 2, 2],\n",
       "       ...,\n",
       "       [1, 1, 1, ..., 1, 1, 1],\n",
       "       [1, 1, 1, ..., 1, 1, 1],\n",
       "       [1, 1, 1, ..., 1, 1, 1]])"
      ]
     },
     "execution_count": 745,
     "metadata": {},
     "output_type": "execute_result"
    }
   ],
   "source": [
    "np.array(cm10_velocity)"
   ]
  },
  {
   "cell_type": "code",
   "execution_count": null,
   "id": "0f7c8105",
   "metadata": {},
   "outputs": [],
   "source": []
  }
 ],
 "metadata": {
  "kernelspec": {
   "display_name": "Python 3",
   "language": "python",
   "name": "python3"
  },
  "language_info": {
   "codemirror_mode": {
    "name": "ipython",
    "version": 3
   },
   "file_extension": ".py",
   "mimetype": "text/x-python",
   "name": "python",
   "nbconvert_exporter": "python",
   "pygments_lexer": "ipython3",
   "version": "3.9.5"
  }
 },
 "nbformat": 4,
 "nbformat_minor": 5
}
