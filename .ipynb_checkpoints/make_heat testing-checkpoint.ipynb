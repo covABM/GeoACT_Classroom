{
 "cells": [
  {
   "cell_type": "code",
   "execution_count": 2,
   "id": "8bc16ee8",
   "metadata": {},
   "outputs": [
    {
     "name": "stdout",
     "output_type": "stream",
     "text": [
      "C:\\Users\\Bailey\\Desktop\\Github files\\GeoACT_Classroom #############################################\n",
      "['.git', '.ipynb_checkpoints', 'av.py', 'av_run.py', 'config', 'make_heat testing.ipynb', 'README.md', 'results', 'src', 'temp_notebook.ipynb', '__pycache__'] ['aerosol.json', 'default.json', 'large_classroom.json', 'neighbor_logic.json', 'small_classroom.json']\n"
     ]
    }
   ],
   "source": [
    "import sys\n",
    "import numpy as np\n",
    "import matplotlib.pyplot as plt\n",
    "import matplotlib as mpl\n",
    "sys.path.insert(0, 'C:\\\\Users\\\\Bailey\\\\Desktop\\\\Github files\\\\GeoACT_Classroom\\src')\n",
    "from infection import generate_infectivity_curves, plot_infectivity_curves, return_aerosol_transmission_rate\n",
    "from classroom import make_velocity_distance, make_new_heat, load_parameters"
   ]
  },
  {
   "cell_type": "code",
   "execution_count": 7,
   "id": "61db7a0f",
   "metadata": {},
   "outputs": [],
   "source": [
    "w1 = (20, 0)\n",
    "w2 = (74, 0)\n",
    "door = (20, 96)\n",
    "vent = (50, 96) ############### make slider for this maybe ##########\n",
    "ws = 8 # 40 centimeters diameter\n",
    "vs = 2 # 20 centimeters diameter\n",
    "\n",
    "\n",
    "room_size = \"100x100\"\n",
    "array_size = [int(room_size.split('x')[0]), int(room_size.split('x')[1])]\n",
    "nothings = np.zeros(array_size)\n",
    "avg_array = nothings.copy()\n",
    "class_flow_pos = load_parameters('config/small_classroom.json')\n",
    "# class_flow_velocity, class_flow_direction = velocity_matrix, direction_matrix\n",
    "# old = np.zeros(class_flow_velocity.shape)\n",
    "# # plt.matshow(old)\n",
    "\n",
    "# # test if updates came through\n",
    "# # this function runs 1 time per minute\n",
    "# temp1, initial = make_new_heat(old, class_flow_pos, class_flow_direction, class_flow_velocity, None)\n",
    "# temp2, initial = make_new_heat(temp1, class_flow_pos, class_flow_direction, class_flow_velocity, initial)\n",
    "# temp3, initial = make_new_heat(temp2, class_flow_pos, class_flow_direction, class_flow_velocity, initial)\n"
   ]
  },
  {
   "cell_type": "code",
   "execution_count": 9,
   "id": "bf689259",
   "metadata": {},
   "outputs": [],
   "source": [
    "# list(class_flow_pos.keys())\n",
    "# plt.matshow(temp1, cmap=plt.get_cmap(\"OrRd\"))#, norm=mpl.colors.LogNorm())\n",
    "# plt.xlim(0, 99)\n",
    "# plt.ylim(0, 99)\n",
    "# plt.colorbar()"
   ]
  },
  {
   "cell_type": "code",
   "execution_count": 10,
   "id": "b4c9cdb0",
   "metadata": {},
   "outputs": [],
   "source": [
    "# list(class_flow_pos.keys())\n",
    "# plt.matshow(temp2, cmap=plt.get_cmap(\"OrRd\"))#, norm=mpl.colors.LogNorm())\n",
    "# plt.xlim(0, 99)\n",
    "# plt.ylim(0, 99)\n",
    "# plt.colorbar()"
   ]
  },
  {
   "cell_type": "markdown",
   "id": "30f1af0c",
   "metadata": {},
   "source": [
    "velocity = v at x, y in velocity matrix\n",
    "direction = d at x, y in direction matrix\n",
    "\n",
    "neighbor_distribution = \n",
    "\n",
    "indicies:\n",
    "0 1 2\n",
    "7   3\n",
    "6 5 4\n",
    "rotation: index starts at:\n",
    "'up' -> idx = 0\n",
    "'down -> idx = 4"
   ]
  },
  {
   "cell_type": "code",
   "execution_count": 11,
   "id": "59e779db",
   "metadata": {},
   "outputs": [],
   "source": [
    "# These face up!\n",
    "v0 = [.025, .025, .025, .025, .025, .025, .025, .025]\n",
    "v1 = [.1, .2, .1, .05, .05, 0, .05, .05]\n",
    "v2 = [.1, .3, .1, .05, .05, 0, .05, .05]\n",
    "v3 = [.1, .3, .1, .1, .05, 0, .05, .1]\n",
    "v4 = [.1, .4, .1, .1, 0, 0, 0, .1]\n",
    "v5 = [.1, .5, .1, .1, 0, 0, 0, .1]"
   ]
  },
  {
   "cell_type": "code",
   "execution_count": 12,
   "id": "c372b710",
   "metadata": {},
   "outputs": [],
   "source": [
    "# These face up and left!\n",
    "vr0 = []\n",
    "vr1 = []\n",
    "vr2 = []\n",
    "vr3 = []\n",
    "vr4 = []\n",
    "vr5 = []"
   ]
  },
  {
   "cell_type": "code",
   "execution_count": 56,
   "id": "e1fc055f",
   "metadata": {},
   "outputs": [],
   "source": [
    "\n",
    "init_ = 0\n",
    "\n",
    "def make_new_h(old, initial=init_):\n",
    "    '''\n",
    "    every 60 seconds in the simulation\n",
    "    1 step passes\n",
    "    '''\n",
    "    # this should results in 2 editable matrices rather than linking them: deep copy?\n",
    "    new = np.zeros(old.shape)\n",
    "    out = np.zeros(old.shape)\n",
    "    \n",
    "    # initial --> neighbors\n",
    "    init_x, init_y = loc[initial]\n",
    "    for i in range(len(initial_spread)):\n",
    "        for j in range(len(initial_spread[0])):\n",
    "            new[init_y + j - 3][init_x + i - 3] += initial_spread[i][j]\n",
    "#             out[init_y + j - 3][init_x + i - 3] += initial_spread[i][j]\n",
    "    \n",
    "    \n",
    "    # ventilation\n",
    "    for y in range(len(old)):\n",
    "        for x in range(len(old[0])):\n",
    "            conc = new[y][x]\n",
    "            \n",
    "            # neighbors\n",
    "            init_x, init_y = loc[initial]\n",
    "            d = 0 ################ get from matrix\n",
    "            v = 5 ################ get from matrix\n",
    "            \n",
    "            # calculate effects of airflow \n",
    "            # ACM = ACH / 60\n",
    "            airflow = ach * v / 60\n",
    "            \n",
    "            for i in [-1, 0, 1]:\n",
    "                for j in [-1, 0, 1]:\n",
    "                    idx = str(i) + ',' + str(j)\n",
    "                    if d == dir_ref[idx]:\n",
    "                        out[init_y + j][init_x + i] += .1 * conc * airflow\n",
    "                    elif (i ==0) and (j == 0):\n",
    "                        out[init_y][init_x] += (.55 - airflow) * conc\n",
    "                    else:\n",
    "                        out[init_y + j][init_x + i] += .1 * conc\n",
    "         \n",
    "    return out, initial\n",
    "\n",
    "def step():\n",
    "    # \n",
    "    conc, init = make_new_h(old)\n",
    "    \n",
    "\n",
    "\n",
    "    for x in x_:\n",
    "        for y in y_:\n",
    "            pass\n",
    "    return\n",
    "\n",
    "w1 = (20, 0)\n",
    "w2 = (74, 0)\n",
    "door = (20, 96)\n",
    "vent = (50, 96) ############### make slider for this maybe ##########\n",
    "ws = 8 # 40 centimeters diameter\n",
    "vs = 2 # 20 centimeters diameter\n",
    "\n",
    "# ACH can be 2, 3, 4, 5, 6 # but not 20\n",
    "ach = 4\n",
    "# ACM is at best 6/60: 1/10: * vents which is by 0-5 = 5/10 at best\n",
    "# this results in \n",
    "\n",
    "# 0 1 2 \n",
    "# 7 8 3\n",
    "# 6 5 4\n",
    "\n",
    "dir_ref = {\"-1,1\": 0, \n",
    "           \"0,1\": 1,\n",
    "           \"1,1\": 2,\n",
    "           \"1,0\": 3,\n",
    "           \"1,-1\": 4,\n",
    "           \"0,-1\": 5,\n",
    "           \"-1,-1\": 6,\n",
    "           \"-1,0\": 7,\n",
    "           \"0,0\": 8}\n",
    "           \n",
    "# This is derived from ~2.04 quanta / ft*3 * .29 ft*3 / min\n",
    "initial_spread = np.array([[0, 0, 0, .03, 0, 0, 0],[0, 0, .04, .1, .03, 0, 0],[0, .03, .1, .2, .1, .04, 0],[.03, .1, .2, .3, .2, .1, .03],[0, .04, .1, .2, .1, .03, 0],[0, 0, .03, .1, .04, 0, 0],[0, 0, 0, .03, 0, 0, 0]])\n",
    "\n",
    "loc = {0: (50, 50)}\n",
    "\n",
    "old = np.zeros((100, 100)) # y, x\n",
    "\n",
    "a, init = make_new_h(old)\n",
    "b, init = make_new_h(a)"
   ]
  },
  {
   "cell_type": "code",
   "execution_count": 57,
   "id": "31c4c0b7",
   "metadata": {},
   "outputs": [
    {
     "data": {
      "text/plain": [
       "(0.0, 99.0)"
      ]
     },
     "execution_count": 57,
     "metadata": {},
     "output_type": "execute_result"
    },
    {
     "data": {
      "image/png": "[encoded data removed]",
      "text/plain": [
       "<Figure size 288x288 with 1 Axes>"
      ]
     },
     "metadata": {
      "needs_background": "light"
     },
     "output_type": "display_data"
    }
   ],
   "source": [
    "direction_matrix, velocity_matrix = make_velocity_distance(w1, w2, door, vent, ws, vs)\n",
    "plt.matshow(velocity_matrix)\n",
    "plt.xlim(0, 99)\n",
    "plt.ylim(0, 99)"
   ]
  },
  {
   "cell_type": "code",
   "execution_count": 58,
   "id": "c2feb43e",
   "metadata": {},
   "outputs": [
    {
     "data": {
      "text/plain": [
       "(0.0, 99.0)"
      ]
     },
     "execution_count": 58,
     "metadata": {},
     "output_type": "execute_result"
    },
    {
     "data": {
      "image/png": "[encoded data removed]",
      "text/plain": [
       "<Figure size 288x288 with 1 Axes>"
      ]
     },
     "metadata": {
      "needs_background": "light"
     },
     "output_type": "display_data"
    }
   ],
   "source": [
    "plt.matshow(direction_matrix)\n",
    "plt.xlim(0, 99)\n",
    "plt.ylim(0, 99)\n",
    "\n",
    "# 0 1 2 \n",
    "# 7 8 3\n",
    "# 6 5 4\n"
   ]
  },
  {
   "cell_type": "code",
   "execution_count": 72,
   "id": "8d71bc25",
   "metadata": {},
   "outputs": [
    {
     "data": {
      "text/plain": [
       "<matplotlib.colorbar.Colorbar at 0x20adf0579d0>"
      ]
     },
     "execution_count": 72,
     "metadata": {},
     "output_type": "execute_result"
    },
    {
     "data": {
      "image/png": "[encoded data removed]",
      "text/plain": [
       "<Figure size 288x288 with 2 Axes>"
      ]
     },
     "metadata": {
      "needs_background": "light"
     },
     "output_type": "display_data"
    }
   ],
   "source": [
    "plt.matshow(a)#, norm=mpl.colors.LogNorm())\n",
    "plt.colorbar()"
   ]
  },
  {
   "cell_type": "code",
   "execution_count": 70,
   "id": "1790b868",
   "metadata": {},
   "outputs": [],
   "source": [
    "temp = np.ones((100, 100))\n",
    "t_arr = []\n",
    "\n",
    "temp, init = make_new_h(temp)\n",
    "for i in range(100):\n",
    "    temp, init = make_new_h(temp, init)\n",
    "    init_x, init_y = loc[init]\n",
    "#     temp[init_y][init_x] = 1\n",
    "    t_arr.append(temp)"
   ]
  },
  {
   "cell_type": "code",
   "execution_count": 71,
   "id": "7453f16d",
   "metadata": {},
   "outputs": [
    {
     "data": {
      "text/plain": [
       "<matplotlib.colorbar.Colorbar at 0x20adf0fe790>"
      ]
     },
     "execution_count": 71,
     "metadata": {},
     "output_type": "execute_result"
    },
    {
     "data": {
      "image/png": "[encoded data removed]",
      "text/plain": [
       "<Figure size 288x288 with 2 Axes>"
      ]
     },
     "metadata": {
      "needs_background": "light"
     },
     "output_type": "display_data"
    }
   ],
   "source": [
    "plt.matshow(t_arr[0])#, norm=mpl.colors.LogNorm())\n",
    "plt.colorbar()"
   ]
  },
  {
   "cell_type": "code",
   "execution_count": 69,
   "id": "e0d585c1",
   "metadata": {},
   "outputs": [
    {
     "data": {
      "text/plain": [
       "<matplotlib.colorbar.Colorbar at 0x20adefebac0>"
      ]
     },
     "execution_count": 69,
     "metadata": {},
     "output_type": "execute_result"
    },
    {
     "data": {
      "image/png": "[encoded data removed]",
      "text/plain": [
       "<Figure size 288x288 with 2 Axes>"
      ]
     },
     "metadata": {
      "needs_background": "light"
     },
     "output_type": "display_data"
    }
   ],
   "source": [
    "# each step distributes this much quanta to each surrounding square\n",
    "plt.matshow(initial_spread, cmap=plt.get_cmap(\"OrRd\"))\n",
    "plt.colorbar()"
   ]
  },
  {
   "cell_type": "code",
   "execution_count": null,
   "id": "cc39e857",
   "metadata": {},
   "outputs": [],
   "source": []
  }
 ],
 "metadata": {
  "kernelspec": {
   "display_name": "Python 3",
   "language": "python",
   "name": "python3"
  },
  "language_info": {
   "codemirror_mode": {
    "name": "ipython",
    "version": 3
   },
   "file_extension": ".py",
   "mimetype": "text/x-python",
   "name": "python",
   "nbconvert_exporter": "python",
   "pygments_lexer": "ipython3",
   "version": "3.9.5"
  }
 },
 "nbformat": 4,
 "nbformat_minor": 5
}
