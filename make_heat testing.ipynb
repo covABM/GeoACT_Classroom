{
 "cells": [
  {
   "cell_type": "code",
   "execution_count": 1,
   "id": "8bc16ee8",
   "metadata": {},
   "outputs": [
    {
     "name": "stdout",
     "output_type": "stream",
     "text": [
      "C:\\Users\\Bailey\\Desktop\\Github files\\GeoACT_Classroom #############################################\n",
      "['.git', '.ipynb_checkpoints', 'av.py', 'av_run.py', 'config', 'make_heat testing.ipynb', 'README.md', 'results', 'src', 'temp_notebook.ipynb', '__pycache__'] ['aerosol.json', 'default.json', 'large_classroom.json', 'neighbor_logic.json', 'small_classroom.json']\n"
     ]
    }
   ],
   "source": [
    "import sys\n",
    "import copy\n",
    "import numpy as np\n",
    "import matplotlib.pyplot as plt\n",
    "import matplotlib as mpl\n",
    "sys.path.insert(0, 'C:\\\\Users\\\\Bailey\\\\Desktop\\\\Github files\\\\GeoACT_Classroom\\src')\n",
    "from infection import generate_infectivity_curves, plot_infectivity_curves, return_aerosol_transmission_rate\n",
    "from classroom import make_velocity_distance, make_new_heat, load_parameters"
   ]
  },
  {
   "cell_type": "code",
   "execution_count": 2,
   "id": "61db7a0f",
   "metadata": {},
   "outputs": [],
   "source": [
    "w1 = (24, 0)\n",
    "w2 = (74, 0)\n",
    "door = (20, 96)\n",
    "vent = (50, 96) ############### make slider for this maybe ##########\n",
    "ws = 8 # 40 centimeters diameter\n",
    "vs = 4 # 20 centimeters diameter\n",
    "\n",
    "direction_matrix, velocity_matrix = make_velocity_distance(w1, w2, door, vent, ws, vs)\n",
    "\n",
    "\n",
    "room_size = \"100x100\"\n",
    "array_size = [int(room_size.split('x')[0]), int(room_size.split('x')[1])]\n",
    "nothings = np.zeros(array_size)\n",
    "avg_array = nothings.copy()\n",
    "class_flow_pos = load_parameters('config/small_classroom.json')"
   ]
  },
  {
   "cell_type": "markdown",
   "id": "30f1af0c",
   "metadata": {},
   "source": [
    "velocity = v at x, y in velocity matrix\n",
    "direction = d at x, y in direction matrix\n",
    "\n",
    "neighbor_distribution = \n",
    "\n",
    "indicies:\n",
    "0 1 2\n",
    "7   3\n",
    "6 5 4\n",
    "rotation: index starts at:\n",
    "'up' -> idx = 0\n",
    "'down -> idx = 4"
   ]
  },
  {
   "cell_type": "code",
   "execution_count": 3,
   "id": "e1fc055f",
   "metadata": {},
   "outputs": [],
   "source": [
    "\n",
    "init_ = 0\n",
    "\n",
    "def initial_cough(init_x, init_y, initial_spread, old):\n",
    "    '''\n",
    "    Initially infected student distributing at each step to nearby\n",
    "    \n",
    "    TODO: Include code to catch students being next to walls\n",
    "    \n",
    "    TODO: Implement these as input variables\n",
    "    Current Assumptions:\n",
    "    Respiratory Activity = 2.04 quanta / ft^3\n",
    "    Breathing Rate = .29 ft^3 / min\n",
    "    \n",
    "    \n",
    "    '''\n",
    "    new = old.copy()\n",
    "    for i in range(len(initial_spread)):\n",
    "        for j in range(len(initial_spread[0])):\n",
    "            new[init_y + j - 3][init_x + i - 3] += initial_spread[i][j]\n",
    "            \n",
    "    return new\n",
    "\n",
    "def normalize_(matrix):\n",
    "    '''\n",
    "    Make everything 0.01-1\n",
    "    \n",
    "    I dislike mpl vmin and vmax\n",
    "    '''\n",
    "    max_ = 0\n",
    "    new = np.zeros(matrix.shape)\n",
    "    for y in range(len(matrix)):\n",
    "        for x in range(len(matrix[y])):\n",
    "            if matrix[y][x] > max_:\n",
    "                max_ = matrix[y][x]\n",
    "    for y in range(len(matrix)):\n",
    "        for x in range(len(matrix[y])):\n",
    "            new[y][x] = matrix[y][x] / max_\n",
    "            \n",
    "    return new\n",
    "\n",
    "\n",
    "def distribute(new, ach, initial, dir_matrix, vel_matrix, loc):\n",
    "    '''\n",
    "    0 1 2\n",
    "    7 8 3\n",
    "    6 5 4\n",
    "    corners and edges: direction face inwards\n",
    "    \n",
    "    near open window: TODO\n",
    "    \n",
    "    \n",
    "    '''\n",
    "    out = np.zeros(new.shape)\n",
    "    init_x, init_y = loc[initial]\n",
    "            \n",
    "    for y in range(len(new)):\n",
    "        for x in range(len(new[0])):\n",
    "            conc = new[y][x]\n",
    "            \n",
    "            # corners\n",
    "            if ((y == 0) and (x == 0)): # bottom left\n",
    "                iter_arr_x = [0, 1]\n",
    "                iter_arr_y = [0, 1]\n",
    "                d = 2\n",
    "                v = vel_matrix[y][x]\n",
    "            elif ((y==0) and (x==len(new[0]) - 1)): # bottom right\n",
    "                iter_arr_x = [-1, 0]\n",
    "                iter_arr_y = [0, 1]\n",
    "                d = 0\n",
    "                v = vel_matrix[y][x]\n",
    "            elif ((y == len(new) - 1) and (x == len(new[0]) - 1)): # top right\n",
    "                iter_arr_x = [-1, 0]\n",
    "                iter_arr_y = [-1, 0]\n",
    "                d = 6\n",
    "                v = vel_matrix[y][x]\n",
    "            elif ((y == len(new)-1) and (x == 0)): # top left\n",
    "                iter_arr_x = [0, 1]\n",
    "                iter_arr_y = [-1, 0]  \n",
    "                d = 4\n",
    "                v = vel_matrix[y][x]   \n",
    "            # edges\n",
    "            elif (y == 0): # bottom\n",
    "                iter_arr_x = [-1, 0, 1]\n",
    "                iter_arr_y = [0, 1]  \n",
    "                d = 1\n",
    "                v = vel_matrix[y][x]  \n",
    "            elif (y == len(new) - 1): # top\n",
    "                iter_arr_x = [-1, 0, 1]\n",
    "                iter_arr_y = [-1, 0]  \n",
    "                d = 5\n",
    "                v = vel_matrix[y][x]   \n",
    "            elif (x == 0): # left\n",
    "                iter_arr_x = [0, 1]\n",
    "                iter_arr_y = [-1, 0, 1]  \n",
    "                d = 3\n",
    "                v = vel_matrix[y][x]  \n",
    "            elif (x == len(new[0]) - 1): # right\n",
    "                iter_arr_x = [-1, 0]\n",
    "                iter_arr_y = [-1, 0, 1]  \n",
    "                d = 7\n",
    "                v = vel_matrix[y][x]  \n",
    "            # window\n",
    "            \n",
    "            \n",
    "            # everywhere else\n",
    "            else:\n",
    "                iter_arr_x = [-1, 0, 1]\n",
    "                iter_arr_y = [-1, 0, 1]\n",
    "                d = dir_matrix[y][x]\n",
    "                v = vel_matrix[y][x]\n",
    "            min_ = 1\n",
    "            airflow = ach * v / 60\n",
    "            for i in iter_arr_x:\n",
    "                for j in iter_arr_y:\n",
    "                    idx = str(i) + ',' + str(j)\n",
    "                    if d == dir_ref[idx]:\n",
    "                        out[y + j][x + i] += airflow * conc * (1 - .02 * v)\n",
    "                    elif (i ==0) and (j == 0):\n",
    "                        out[y][x] += (1 - airflow) * conc * (1 - .02 * v)\n",
    "                        if out[y][x] < 0:\n",
    "                            out[y][x] = 0\n",
    "                    else:\n",
    "                        out[y + j][x + i] += .02 * v * conc\n",
    "                    if out[y + j][x + i] < min_:\n",
    "                        min_ = out[y + j][x + i]\n",
    "    return out, min_\n",
    "# ACH can be 2, 3, 4, 5, 6 # but not 20\n",
    "ach = 4\n",
    "# ACM is at best 6/60: 1/10: * vents which is by 0-5 = 5/10 at best\n",
    "# this results in \n",
    "\n",
    "# 0 1 2 \n",
    "# 7 8 3\n",
    "# 6 5 4\n",
    "\n",
    "dir_ref = {\"-1,1\": 0, \n",
    "           \"0,1\": 1,\n",
    "           \"1,1\": 2,\n",
    "           \"1,0\": 3,\n",
    "           \"1,-1\": 4,\n",
    "           \"0,-1\": 5,\n",
    "           \"-1,-1\": 6,\n",
    "           \"-1,0\": 7,\n",
    "           \"0,0\": 8}\n",
    "           \n",
    "# This is derived from ~2.04 quanta / ft*3 * .29 ft*3 / min\n",
    "initial_spread = np.array([[0, 0, 0, .03, 0, 0, 0],[0, 0, .04, .1, .03, 0, 0],[0, .03, .1, .2, .1, .04, 0],[.03, .1, .2, .3, .2, .1, .03],[0, .04, .1, .2, .1, .03, 0],[0, 0, .03, .1, .04, 0, 0],[0, 0, 0, .03, 0, 0, 0]])\n",
    "\n",
    "# loc = {0: (50, 50)}\n",
    "\n",
    "old = np.zeros((100, 100)) # y, x\n",
    "\n",
    "# a, init = make_new_h(old)\n",
    "# b, init = make_new_h(a)"
   ]
  },
  {
   "cell_type": "code",
   "execution_count": 4,
   "id": "c9ff0085",
   "metadata": {},
   "outputs": [
    {
     "name": "stdout",
     "output_type": "stream",
     "text": [
      "finished\n"
     ]
    }
   ],
   "source": [
    "# test model run here 100 minutes\n",
    "loc_2 = {0:(25, 40)}\n",
    "first = np.zeros((100, 100))\n",
    "initial = 0\n",
    "temp = initial_cough(25, 40, initial_spread, first)\n",
    "vent_, min_0 = distribute(temp, ach, initial, direction_matrix, velocity_matrix, loc_2)\n",
    "temp_arr_ = []\n",
    "vent_arr = []\n",
    "min_arr = []\n",
    "normed_arr = []\n",
    "for i in range(180):\n",
    "    temp = initial_cough(25, 40, initial_spread, vent_)\n",
    "    vent_, min_i = distribute(temp, ach, initial, direction_matrix, velocity_matrix, loc_2)\n",
    "    normed = normalize_(vent_)\n",
    "    temp_arr_.append(temp)\n",
    "    vent_arr.append(vent_)\n",
    "    min_arr.append(min_i)\n",
    "    normed_arr.append(normed)\n",
    "print('finished')"
   ]
  },
  {
   "cell_type": "code",
   "execution_count": 5,
   "id": "7acd474b",
   "metadata": {},
   "outputs": [
    {
     "data": {
      "text/plain": [
       "<matplotlib.colorbar.Colorbar at 0x1ef21a6d820>"
      ]
     },
     "execution_count": 5,
     "metadata": {},
     "output_type": "execute_result"
    },
    {
     "data": {
      "image/png": "[encoded data removed]",
      "text/plain": [
       "<Figure size 288x288 with 2 Axes>"
      ]
     },
     "metadata": {
      "needs_background": "light"
     },
     "output_type": "display_data"
    }
   ],
   "source": [
    "plt.matshow(direction_matrix)\n",
    "plt.xlim(0,99)\n",
    "plt.ylim(0,99)\n",
    "plt.colorbar()"
   ]
  },
  {
   "cell_type": "code",
   "execution_count": 6,
   "id": "ef3ad9da",
   "metadata": {},
   "outputs": [
    {
     "data": {
      "text/plain": [
       "<matplotlib.colorbar.Colorbar at 0x1ef26a9dd60>"
      ]
     },
     "execution_count": 6,
     "metadata": {},
     "output_type": "execute_result"
    },
    {
     "data": {
      "image/png": "[encoded data removed]",
      "text/plain": [
       "<Figure size 288x288 with 2 Axes>"
      ]
     },
     "metadata": {
      "needs_background": "light"
     },
     "output_type": "display_data"
    }
   ],
   "source": [
    "my_cmap = copy.copy(mpl.cm.get_cmap(\"OrRd\")) # copy the default cmap\n",
    "my_cmap.set_bad(color='w')\n",
    "# plot_fix\n",
    "# for t in range(len(temp_arr_)):\n",
    "#     for y in range(len(temp_arr_[t])):\n",
    "#         for x in range(len(temp_arr_[t][y])):\n",
    "#             if temp_arr_[t][y][x] < min_arr[t]:\n",
    "#                 temp_arr_[t][y][x] = min_arr[t]\n",
    "#                 print(min_arr[t])\n",
    "\n",
    "plt.matshow(normed_arr[179], cmap=my_cmap)\n",
    "plt.xlim(0,99)\n",
    "plt.ylim(0,99)\n",
    "plt.colorbar()"
   ]
  },
  {
   "cell_type": "code",
   "execution_count": 7,
   "id": "966bced3",
   "metadata": {},
   "outputs": [
    {
     "name": "stdout",
     "output_type": "stream",
     "text": [
      "Using matplotlib backend: TkAgg\n"
     ]
    },
    {
     "data": {
      "text/plain": [
       "<matplotlib.pyplot._IonContext at 0x1ef26b3a400>"
      ]
     },
     "execution_count": 7,
     "metadata": {},
     "output_type": "execute_result"
    }
   ],
   "source": [
    "%matplotlib\n",
    "plt.ion()"
   ]
  },
  {
   "cell_type": "code",
   "execution_count": 8,
   "id": "417cd98e",
   "metadata": {},
   "outputs": [],
   "source": [
    "# fig, axes = plt.subplots(1, 4)\n",
    "# axes[0].matshow(normed_arr[0], cmap=my_cmap)\n",
    "# axes[1].matshow(normed_arr[50], cmap=my_cmap)\n",
    "# axes[2].matshow(normed_arr[100], cmap=my_cmap)\n",
    "# axes[3].matshow(normed_arr[150], cmap=my_cmap)\n",
    "# for i in range(4):\n",
    "#     axes[i].tick_params(axis='both', which='both', labelcolor='g', size=0)\n",
    "#     axes[i].set_xlim(0,99)\n",
    "#     axes[i].set_ylim(0,99)\n",
    "#     axes[i].set_axis_off()\n",
    "#     this_str = str(50 * i) + \" Minutes\"\n",
    "#     axes[i].set_title(this_str)\n",
    "# fig.suptitle('Relative Viral Concentration\\nStudent at (25, 40)\\nACH = 4')\n",
    "# plt.savefig('results/relative_2540_4.png', dpi=300)"
   ]
  },
  {
   "cell_type": "code",
   "execution_count": 9,
   "id": "d7205b5e",
   "metadata": {},
   "outputs": [],
   "source": [
    "# change initial to 25, 40"
   ]
  },
  {
   "cell_type": "code",
   "execution_count": 10,
   "id": "53062c10",
   "metadata": {},
   "outputs": [],
   "source": [
    "# fig, axes = plt.subplots(1, 4)\n",
    "# a = 0\n",
    "# b = 6\n",
    "# # why is everything in between not\n",
    "\n",
    "# # something to do with how it's plotting 0s ######################## BEIGE\n",
    "\n",
    "# # working\n",
    "# c = 69\n",
    "# d = 150\n",
    "\n",
    "\n",
    "\n",
    "# axes[0].matshow(vent_arr[a], norm=mpl.colors.LogNorm(), cmap=my_cmap)\n",
    "# axes[1].matshow(vent_arr[b], norm=mpl.colors.LogNorm(), cmap=my_cmap)\n",
    "# axes[2].matshow(vent_arr[c], norm=mpl.colors.LogNorm(), cmap=my_cmap)\n",
    "# axes[3].matshow(vent_arr[d], norm=mpl.colors.LogNorm(), cmap=my_cmap)\n",
    "\n",
    "# minutes = [a, b, c, d]\n",
    "# for i in range(4):\n",
    "#     axes[i].tick_params(axis='both', which='both', labelcolor='g', size=0)\n",
    "#     axes[i].set_xlim(0,99)\n",
    "#     axes[i].set_ylim(0,99)\n",
    "#     axes[i].set_axis_off()\n",
    "#     this_str = str(minutes[i]) + \" Minutes\"\n",
    "#     axes[i].set_title(this_str)\n",
    "# fig.suptitle('Log Normalized Viral Concentration\\nStudent at (25, 40)\\nACH = 4')\n",
    "# plt.savefig('results/lognorm_2540_4.png', dpi=300)"
   ]
  },
  {
   "cell_type": "code",
   "execution_count": 11,
   "id": "b10af1e3",
   "metadata": {},
   "outputs": [],
   "source": [
    "#### change initial to 45, 50"
   ]
  },
  {
   "cell_type": "code",
   "execution_count": 12,
   "id": "7b354ed6",
   "metadata": {},
   "outputs": [],
   "source": [
    "# fig, axes = plt.subplots(1, 4)\n",
    "# axes[0].matshow(normed_arr[0], cmap=my_cmap)\n",
    "# axes[1].matshow(normed_arr[50], cmap=my_cmap)\n",
    "# axes[2].matshow(normed_arr[100], cmap=my_cmap)\n",
    "# axes[3].matshow(normed_arr[150], cmap=my_cmap)\n",
    "# for i in range(4):\n",
    "#     axes[i].tick_params(axis='both', which='both', labelcolor='g', size=0)\n",
    "#     axes[i].set_xlim(0,99)\n",
    "#     axes[i].set_ylim(0,99)\n",
    "#     axes[i].set_axis_off()\n",
    "#     this_str = str(50 * i) + \" Minutes\"\n",
    "#     axes[i].set_title(this_str)\n",
    "# fig.suptitle('Relative Viral Concentration\\nStudent at (45, 50)\\nACH = 4')\n",
    "# plt.savefig('results/relative_4550_4.png', dpi=300)"
   ]
  },
  {
   "cell_type": "code",
   "execution_count": 13,
   "id": "9760e14e",
   "metadata": {},
   "outputs": [],
   "source": [
    "# fig, axes = plt.subplots(1, 4)\n",
    "# axes[0].matshow(vent_arr[0], norm=mpl.colors.LogNorm(), cmap=my_cmap)\n",
    "# axes[1].matshow(vent_arr[50], norm=mpl.colors.LogNorm(), cmap=my_cmap)\n",
    "# axes[2].matshow(vent_arr[100], norm=mpl.colors.LogNorm(), cmap=my_cmap)\n",
    "# axes[3].matshow(vent_arr[150], norm=mpl.colors.LogNorm(), cmap=my_cmap)\n",
    "# for i in range(4):\n",
    "#     axes[i].tick_params(axis='both', which='both', labelcolor='g', size=0)\n",
    "#     axes[i].set_xlim(0,99)\n",
    "#     axes[i].set_ylim(0,99)\n",
    "#     axes[i].set_axis_off()\n",
    "#     this_str = str(50 * i) + \" Minutes\"\n",
    "#     axes[i].set_title(this_str)\n",
    "# fig.suptitle('Log Normalized Viral Concentration\\nStudent at (45, 50)\\nACH = 4')\n",
    "# plt.savefig('results/lognorm_4550_4.png', dpi=300)"
   ]
  },
  {
   "cell_type": "code",
   "execution_count": 14,
   "id": "924bff2d",
   "metadata": {},
   "outputs": [
    {
     "ename": "NameError",
     "evalue": "name 'concentration_distribution' is not defined",
     "output_type": "error",
     "traceback": [
      "\u001b[1;31m----------------------------------------------------------\u001b[0m",
      "\u001b[1;31mNameError\u001b[0m                Traceback (most recent call last)",
      "\u001b[1;32m<ipython-input-14-822707e0f03c>\u001b[0m in \u001b[0;36m<module>\u001b[1;34m\u001b[0m\n\u001b[0;32m      1\u001b[0m \u001b[0mdirection_matrix\u001b[0m\u001b[1;33m,\u001b[0m \u001b[0mvelocity_matrix\u001b[0m \u001b[1;33m=\u001b[0m \u001b[0mmake_velocity_distance\u001b[0m\u001b[1;33m(\u001b[0m\u001b[0mw1\u001b[0m\u001b[1;33m,\u001b[0m \u001b[0mw2\u001b[0m\u001b[1;33m,\u001b[0m \u001b[0mdoor\u001b[0m\u001b[1;33m,\u001b[0m \u001b[0mvent\u001b[0m\u001b[1;33m,\u001b[0m \u001b[0mws\u001b[0m\u001b[1;33m,\u001b[0m \u001b[0mvs\u001b[0m\u001b[1;33m)\u001b[0m\u001b[1;33m\u001b[0m\u001b[1;33m\u001b[0m\u001b[0m\n\u001b[1;32m----> 2\u001b[1;33m \u001b[0mtemp_\u001b[0m\u001b[1;33m,\u001b[0m \u001b[0mvent_\u001b[0m\u001b[1;33m,\u001b[0m \u001b[0mmin_\u001b[0m\u001b[1;33m,\u001b[0m \u001b[0mnormed_\u001b[0m \u001b[1;33m=\u001b[0m \u001b[0mconcentration_distribution\u001b[0m\u001b[1;33m(\u001b[0m\u001b[0mach\u001b[0m \u001b[1;33m=\u001b[0m \u001b[1;36m4\u001b[0m\u001b[1;33m,\u001b[0m \u001b[0mdirection_matrix\u001b[0m\u001b[1;33m=\u001b[0m\u001b[0mdirection_matrix\u001b[0m\u001b[1;33m,\u001b[0m \u001b[0mvelocity_matrix\u001b[0m\u001b[1;33m=\u001b[0m\u001b[0mvelocity_matrix\u001b[0m\u001b[1;33m,\u001b[0m \u001b[0mloc\u001b[0m\u001b[1;33m=\u001b[0m\u001b[0mclass_flow_pos\u001b[0m\u001b[1;33m)\u001b[0m\u001b[1;33m\u001b[0m\u001b[1;33m\u001b[0m\u001b[0m\n\u001b[0m",
      "\u001b[1;31mNameError\u001b[0m: name 'concentration_distribution' is not defined"
     ]
    }
   ],
   "source": [
    "\n",
    "direction_matrix, velocity_matrix = make_velocity_distance(w1, w2, door, vent, ws, vs)\n",
    "temp_, vent_, min_, normed_ = concentration_distribution(ach = 4, direction_matrix=direction_matrix, velocity_matrix=velocity_matrix, loc=class_flow_pos)"
   ]
  },
  {
   "cell_type": "code",
   "execution_count": null,
   "id": "43d01887",
   "metadata": {},
   "outputs": [],
   "source": []
  }
 ],
 "metadata": {
  "kernelspec": {
   "display_name": "Python 3",
   "language": "python",
   "name": "python3"
  },
  "language_info": {
   "codemirror_mode": {
    "name": "ipython",
    "version": 3
   },
   "file_extension": ".py",
   "mimetype": "text/x-python",
   "name": "python",
   "nbconvert_exporter": "python",
   "pygments_lexer": "ipython3",
   "version": "3.9.5"
  }
 },
 "nbformat": 4,
 "nbformat_minor": 5
}
