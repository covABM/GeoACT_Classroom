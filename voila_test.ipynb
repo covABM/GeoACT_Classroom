{
 "cells": [
  {
   "cell_type": "code",
   "execution_count": 1,
   "id": "41541ff8",
   "metadata": {},
   "outputs": [
    {
     "ename": "ModuleNotFoundError",
     "evalue": "No module named 'ml_plotting_functions'",
     "output_type": "error",
     "traceback": [
      "\u001b[1;31m---------------------------------------------------------------------------\u001b[0m",
      "\u001b[1;31mModuleNotFoundError\u001b[0m                       Traceback (most recent call last)",
      "\u001b[1;32m<ipython-input-1-9ee7ec135d7e>\u001b[0m in \u001b[0;36m<module>\u001b[1;34m\u001b[0m\n\u001b[0;32m      7\u001b[0m \u001b[1;32mimport\u001b[0m \u001b[0mmatplotlib\u001b[0m\u001b[1;33m.\u001b[0m\u001b[0mpyplot\u001b[0m \u001b[1;32mas\u001b[0m \u001b[0mplt\u001b[0m\u001b[1;33m\u001b[0m\u001b[1;33m\u001b[0m\u001b[0m\n\u001b[0;32m      8\u001b[0m \u001b[1;33m\u001b[0m\u001b[0m\n\u001b[1;32m----> 9\u001b[1;33m \u001b[1;32mimport\u001b[0m \u001b[0mml_plotting_functions\u001b[0m\u001b[1;33m\u001b[0m\u001b[1;33m\u001b[0m\u001b[0m\n\u001b[0m\u001b[0;32m     10\u001b[0m \u001b[1;33m\u001b[0m\u001b[0m\n\u001b[0;32m     11\u001b[0m \u001b[0mmpl\u001b[0m\u001b[1;33m.\u001b[0m\u001b[0mrcParams\u001b[0m\u001b[1;33m[\u001b[0m\u001b[1;34m'figure.dpi'\u001b[0m\u001b[1;33m]\u001b[0m \u001b[1;33m=\u001b[0m \u001b[1;36m150\u001b[0m \u001b[1;31m# Increase size in Jupyter\u001b[0m\u001b[1;33m\u001b[0m\u001b[1;33m\u001b[0m\u001b[0m\n",
      "\u001b[1;31mModuleNotFoundError\u001b[0m: No module named 'ml_plotting_functions'"
     ]
    }
   ],
   "source": [
    "\n",
    "import ipywidgets as widgets\n",
    "import matplotlib as mpl\n",
    "import pandas as pd\n",
    "import random\n",
    "import itertools\n",
    "from matplotlib import colors\n",
    "import matplotlib.pyplot as plt\n",
    "\n",
    "import ml_plotting_functions\n",
    "\n",
    "mpl.rcParams['figure.dpi'] = 150 # Increase size in Jupyter"
   ]
  },
  {
   "cell_type": "code",
   "execution_count": 2,
   "id": "4961a5bd",
   "metadata": {},
   "outputs": [],
   "source": [
    "df = pd.DataFrame()\n",
    "\n",
    "\n",
    "def plot_marbles_with_truth_color(class_imbalance, n_x=10, n_y=10):\n",
    "    fig, ax = plt.subplots(ncols=1, figsize=(3, 3))\n",
    "\n",
    "    # data prep\n",
    "    df['coords'] = list(itertools.product(*[range(n_x), range(n_y)]))\n",
    "    df['true_values'] = [int(random.random() + class_imbalance) for _ in range(n_x * n_y)]\n",
    "    df['true_colors'] = df['true_values'].apply(lambda v: ml_plotting_functions.DEFAULT_MARBLE_COLOR  if v == 1 else 'white')\n",
    "\n",
    "    # actual plotting\n",
    "    ml_plotting_functions.draw_value_circles(ax, df['true_colors'], df['coords'])\n",
    "\n",
    "    # finalize\n",
    "    fig.suptitle(\"How the truth looks like\")\n",
    "    plt.show()\n",
    "    plt.close(fig)\n",
    "\n",
    "\n",
    "def plot_classifier_view(quality):\n",
    "    fig, [ax1, ax2] = plt.subplots(nrows=1, ncols=2, figsize=(6, 3))\n",
    "\n",
    "    # data prep\n",
    "    df['predicted_values'] = ml_plotting_functions.predict_values(df['true_values'], quality=quality)\n",
    "    df['predicted_value_colors'] = df['predicted_values'].astype(str)\n",
    "    df['face_colors'] = df['predicted_values'].apply(lambda c: tuple(list(colors.to_rgb(ml_plotting_functions.DEFAULT_MARBLE_COLOR)) + [c]))\n",
    "\n",
    "    # actual plotting\n",
    "    ml_plotting_functions.draw_value_circles(ax1, df['face_colors'], df['coords'])\n",
    "    ml_plotting_functions.plot_predicted_values_as_swarmplot_with_color_gradient(ax2,\n",
    "                                                           df.sort_values('predicted_values')['predicted_values'],  # since for the swarm plot, marker order is sorted by value\n",
    "                                                           s=10)\n",
    "    # finalize\n",
    "    fig.suptitle(\"How the classifier sees it\")\n",
    "    plt.show()\n",
    "    plt.close(fig)\n",
    "    \n",
    "def plot_evaluation_metrics(cutoff):\n",
    "    fig, [ax1, ax2, ax3] = plt.subplots(nrows=1, ncols=3, figsize=(12, 3))\n",
    "\n",
    "    # data prep\n",
    "    df['predicted_binary_values'] = df['predicted_values'].apply(lambda x: 0 if x < cutoff else 1)\n",
    "    df_sorted = df.sort_values('predicted_values')\n",
    "\n",
    "    # actual plotting\n",
    "    ml_plotting_functions.plot_predicted_values_as_swarmplot_with_green_red_outline(ax1,\n",
    "                                                              df_sorted['true_values'],\n",
    "                                                              df_sorted['predicted_values'],\n",
    "                                                              df_sorted['predicted_binary_values'], cutoff)\n",
    "    ml_plotting_functions.make_roc_curve_plot(ax2, df['true_values'], df['predicted_values'], cutoff)\n",
    "    ml_plotting_functions.make_precision_recall_bar_chart(ax3, df['true_values'], df['predicted_binary_values'])\n",
    "\n",
    "    # finalize\n",
    "    fig.suptitle(\"Evaluation metrics with cutoff\\n\", va='bottom')\n",
    "    plt.show()\n",
    "    plt.close(fig)\n",
    "    \n",
    "# Setup widgets, interactivity & layout\n",
    "##################################################\n",
    "\n",
    "# Create the widgets\n",
    "class_imbalance_widget = widgets.FloatSlider(min=0.1,\n",
    "                                             max=0.9,\n",
    "                                             step=0.1,\n",
    "                                             value=0.5,\n",
    "                                             continuous_update=False,\n",
    "                                             description='Class imbalance',\n",
    "                                             style={'description_width': 'initial'})\n",
    "\n",
    "quality_widget = widgets.FloatSlider(min=0,\n",
    "                                     max=1,\n",
    "                                     step=0.1,\n",
    "                                     value=0.5,\n",
    "                                     continuous_update=False,\n",
    "                                     description='Classifier strength',\n",
    "                                     style={'description_width': 'initial'})\n",
    "\n",
    "cutoff_widget = widgets.FloatSlider(min=0,\n",
    "                                    max=1,\n",
    "                                    step=0.05,\n",
    "                                    value=0.5,\n",
    "                                    continuous_update=False,\n",
    "                                    description='Cutoff value',\n",
    "                                    style={'description_width': 'initial'})\n",
    "\n",
    "\n",
    "# Create the views\n",
    "truth_view = widgets.interactive(plot_marbles_with_truth_color,\n",
    "                                 class_imbalance=class_imbalance_widget,\n",
    "                                 n_x=widgets.fixed(10),\n",
    "                                 n_y=widgets.fixed(10))\n",
    "classifier_view = widgets.interactive(plot_classifier_view, quality=quality_widget)\n",
    "metrics_view = widgets.interactive(plot_evaluation_metrics, cutoff=cutoff_widget)\n",
    "\n",
    "# In case of value change, update downstream views\n",
    "class_imbalance_widget.observe(lambda x: classifier_view.update(), 'value')\n",
    "class_imbalance_widget.observe(lambda x: metrics_view.update(), 'value')\n",
    "quality_widget.observe(lambda x: metrics_view.update(), 'value')\n",
    "\n",
    "# Put the views into a layout grid\n",
    "grid = widgets.GridspecLayout(2, 3, layout=widgets.Layout(justify_content='center'))\n",
    "grid[0, 0] = truth_view\n",
    "grid[0, 1:] = classifier_view\n",
    "grid[1, :] = metrics_view"
   ]
  },
  {
   "cell_type": "code",
   "execution_count": 3,
   "id": "b06f539f",
   "metadata": {},
   "outputs": [],
   "source": [
    "# Make the app\n",
    "##################################################\n",
    "\n",
    "title_html = \"\"\"\n",
    "<h2>Machine Learning Model Evaluation: Visual & Interactive</h2>\n",
    "\n",
    "<ul style=\"line-height: 1.5\">\n",
    "  <li>A classifier was trained to identify positive targets, here visualized as blue marbles (upper left).\n",
    "The ratio of negative (white) and positive (blue) targets can be controlled via the slider.</li>\n",
    "\n",
    "  <li>The strength-adjustable classifier then predicts a score from one to zero for each item (upper center and right).</li>\n",
    "  \n",
    "  <li>Based on this score and an adjustable cutoff threshold, each item is classified as either positive or negative.\n",
    "Correct or incorrect classification is highlighted with a green or red outline for each circle (lower left). \n",
    "Subsequently, \n",
    "<a href=\"https://en.wikipedia.org/wiki/Receiver_operating_characteristic\"> the ROC curve and the AUC value<a>\n",
    "(lower center) as well as\n",
    "<a href=\"https://en.wikipedia.org/wiki/Precision_and_recall\"> precision, recall</a> \n",
    "and \n",
    "<a href=\"https://en.wikipedia.org/wiki/Accuracy_and_precision#In_binary_classification\"> accuracy </a> \n",
    "(lower right) can be calculated.</li>\n",
    "</ul>\n",
    "\"\"\"\n",
    "\n",
    "description_html = \"\"\"\n",
    "<style>\n",
    "p {\n",
    "    margin-bottom: 1.2em;\n",
    "    line-height: 1.5;\n",
    "}\n",
    "</style>\n",
    "\n",
    "<p>The effects of different configurations regarding class imbalance, model strength or cutoff threshold on evaluation metrics can be studied.\n",
    "Also, the relationship between these metrics, e.g. the tradeoff between precision and recall, can be observed.</p>\n",
    "\n",
    "<p>This allows e.g. to explore the problem with accuracy for unbalanced classes: In the case of few positive targets, \n",
    "a weak classifier with a high threshold will yield a high accuracy simply due to labelling everything negative.</p>\n",
    "\n",
    "<p>Source code <a href=\"https://github.com/dhaitz/machine-learning-interactive-visualization\"> here</a>. Ideas, suggestions and improvements welcome! /<a href=\"https://dhaitz.github.io\">dh</a></p>\n",
    "\"\"\"\n",
    "app_contents = [widgets.HTML(title_html, layout=widgets.Layout(margin='0 0 3em 0', max_width='800px')),\n",
    "            grid,\n",
    "            widgets.HTML(description_html, layout=widgets.Layout(margin='3em 0 0 0', max_width='800px'))]\n",
    "app = widgets.VBox(app_contents, layout=widgets.Layout(max_width='1024px', margin='0 auto 0 auto'))\n"
   ]
  },
  {
   "cell_type": "code",
   "execution_count": 4,
   "id": "f61ab596",
   "metadata": {},
   "outputs": [
    {
     "data": {
      "application/vnd.jupyter.widget-view+json": {
       "model_id": "1371e92415e240aba34c92eeac6c9f3d",
       "version_major": 2,
       "version_minor": 0
      },
      "text/plain": [
       "VBox(children=(HTML(value='\\n<h2>Machine Learning Model Evaluation: Visual & Interactive</h2>\\n\\n<ul style=\"li…"
      ]
     },
     "metadata": {},
     "output_type": "display_data"
    },
    {
     "data": {
      "image/png": "[encoded data removed]",
      "text/plain": [
       "<Figure size 216x216 with 1 Axes>"
      ]
     },
     "metadata": {
      "needs_background": "light"
     },
     "output_type": "display_data"
    },
    {
     "data": {
      "image/png": "[encoded data removed]",
      "text/plain": [
       "<Figure size 432x216 with 2 Axes>"
      ]
     },
     "metadata": {
      "needs_background": "light"
     },
     "output_type": "display_data"
    },
    {
     "data": {
      "image/png": "[encoded data removed]",
      "text/plain": [
       "<Figure size 864x216 with 3 Axes>"
      ]
     },
     "metadata": {
      "needs_background": "light"
     },
     "output_type": "display_data"
    }
   ],
   "source": [
    "display(app)"
   ]
  },
  {
   "cell_type": "code",
   "execution_count": null,
   "id": "2bcda303",
   "metadata": {},
   "outputs": [],
   "source": []
  }
 ],
 "metadata": {
  "kernelspec": {
   "display_name": "Python 3",
   "language": "python",
   "name": "python3"
  },
  "language_info": {
   "codemirror_mode": {
    "name": "ipython",
    "version": 3
   },
   "file_extension": ".py",
   "mimetype": "text/x-python",
   "name": "python",
   "nbconvert_exporter": "python",
   "pygments_lexer": "ipython3",
   "version": "3.9.5"
  }
 },
 "nbformat": 4,
 "nbformat_minor": 5
}
