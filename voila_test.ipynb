{
 "cells": [
  {
   "cell_type": "markdown",
   "source": [
    "# TODO List 8/21\r\n",
    "1. finish input\r\n",
    "    - Mask wearing % Floatslider(value = .9, min = 0, max = 1, step = .1)\r\n",
    "    - Mask types: 4 Floatsliders that update or balance each other: sum(all 4) = 1\r\n",
    "    - Variant Type: Dropdown(options = ['Alpha', 'Beta', 'Gamma', 'Delta'])\r\n",
    "    a. VBox layout\r\n",
    "    b. init_samples\r\n",
    "    c. dist & time\r\n",
    "    d. Vaccine counts P and C inputs\r\n",
    "    e. Vaccine deaths P and C inputs\r\n",
    "    f. Variant counts P and C inputs\r\n",
    "    g. Vaccine Efficacy (brands)\r\n",
    "    h. Droplet Radius vs Infectivity , Crit Radius vs Humidity\r\n",
    "    i. Drop vs Mask, Aerosol vs Vents\r\n",
    "\r\n",
    "2. finish output\r\n",
    "    a. VBox layout\r\n",
    "    b. init_samples\r\n",
    "    c. dist & time\r\n",
    "    d. Vaccine counts P and C inputs\r\n",
    "    e. Vaccine deaths P and C inputs\r\n",
    "    f. Variant counts P and C inputs\r\n",
    "    g. Vaccine Efficacy (brands)\r\n",
    "    h. Droplet Radius vs Infectivity , Crit Radius vs Humidity\r\n",
    "    i. Drop vs Mask, Aerosol vs Vents\r\n",
    "\r\n",
    "3. make output function of inputs\r\n",
    "    a. init_samples: plot a Vline for each sampled value\r\n",
    "    b. dist & time: use DF w/ Transmission rate, Distance, and Time elapsed"
   ],
   "metadata": {}
  },
  {
   "cell_type": "code",
   "execution_count": 1,
   "source": [
    "%matplotlib inline\r\n",
    "import ipywidgets as wg\r\n",
    "import matplotlib as mpl\r\n",
    "import pandas as pd\r\n",
    "import numpy as np\r\n",
    "import random\r\n",
    "import itertools\r\n",
    "from matplotlib import colors\r\n",
    "import matplotlib.pyplot as plt\r\n",
    "from IPython.display import clear_output, display\r\n",
    "import plotly.graph_objects as go\r\n",
    "import plotly.express as px\r\n",
    "# import helper functions\r\n",
    "import voila_helper as vh\r\n",
    "import os\r\n",
    "\r\n",
    "np.random.seed(42)"
   ],
   "outputs": [],
   "metadata": {}
  },
  {
   "cell_type": "code",
   "execution_count": 2,
   "source": [
    "title_html = \"\"\"\r\n",
    "<style>\r\n",
    "p {\r\n",
    "  margin-bottom: 1.2em;\r\n",
    "  line-height: 1.5;\r\n",
    "  word-wrap: break-word;\r\n",
    "}\r\n",
    "p_todo {\r\n",
    "  font-size: smaller;\r\n",
    "}\r\n",
    "</style>\r\n",
    "\r\n",
    "<h2>GeoACT Parameter Visualizations</h2>\r\n",
    "\r\n",
    "<p_todo>TODO List: Last Updated 8/21 9:00 AM</p_todo>\r\n",
    "\r\n",
    "<p><a href=\"https://github.com/covABM/GeoACT_Classroom\">See the Codebase on GitHub</a></p>\r\n",
    "\r\n",
    "<p>LinkedIn profiles: \r\n",
    "<a href=\"https://www.linkedin.com/in/ilya-zaslavsky-7997ab7/\">Dr. Ilya Zaslavsky</a>, \r\n",
    "<a href=\"https://www.linkedin.com/in/kaushik-ram-ganapathy\">Kaushik Ganapathy</a>, and\r\n",
    "<a href=\"https://www.linkedin.com/in/bailey-man/\">Bailey Man</a></p>\r\n",
    "\"\"\"\r\n",
    "# Set title widget text\r\n",
    "header = wg.HTML(title_html)"
   ],
   "outputs": [],
   "metadata": {}
  },
  {
   "cell_type": "code",
   "execution_count": 3,
   "source": [
    "### Left Sidebar\r\n",
    "\r\n",
    "# Variant Options # dropdown wg with options: A, B, C, D\r\n",
    "\r\n",
    "\r\n",
    "# Init Sampler # intslider 0-10, default = 3 -> interactive_output: print the initial samples\r\n",
    "\r\n",
    "\r\n",
    "\r\n",
    "# Set Distance # for the infection rate / time for a set distance plot\r\n",
    "\r\n",
    "\r\n",
    "\r\n",
    "# Set Time # for the infection rate / distance for a set time plot\r\n",
    "\r\n",
    "\r\n",
    "# \r\n",
    "\r\n",
    "\r\n",
    "\r\n",
    "###################################################\r\n",
    "## Text describing user input\r\n",
    "\r\n",
    "## init sim button section for Temporal\r\n",
    "\r\n",
    "## All other input widgets: (for each plot)\r\n",
    "\r\n",
    "# Variants in Colors!!! 4 buttons in 2x2 grid\r\n",
    "# hbox([vbox([a, b]), vbox([c, d])])\r\n",
    "\r\n",
    "# \r\n",
    "\r\n",
    "\r\n",
    "\r\n",
    "\r\n",
    "# plt.ioff()\r\n",
    "\r\n",
    "num_init_label = wg.Label('Initial Samples n=')\r\n",
    "num_init_slider = wg.IntSlider(min=1, max=10, step=1, value=3)\r\n",
    "init_sample_button = wg.Button(description='Generate')\r\n",
    "asymp_label = wg.Label('% Chance Asymptomatic')\r\n",
    "asymp_slider = wg.FloatSlider(min=0, max=1, step=0.1, value=0.3)\r\n",
    "sample_output = wg.Output()\r\n",
    "def on_button_clicked(init_sample_button, sample_output):\r\n",
    "    with sample_output:\r\n",
    "        return vh.sample_initial(n_initial=sample_output.value,)\r\n",
    "\r\n",
    "button_click = init_sample_button.on_click(vh.sample_initial())\r\n",
    "\r\n",
    "# Other Inputs:\r\n",
    "# Variants dropdown menu???? \r\n",
    "variants = wg.Dropdown(options=[\"Alpha\",\"Beta\",\"Gamma\",\"Delta\"], description=\"Variant\")\r\n",
    "\r\n",
    "\r\n",
    "# Variants 2x2 options grid\r\n",
    "# clicking a button plots that variant\r\n",
    "\r\n",
    "# Set time\r\n",
    "\r\n",
    "# Set distance\r\n",
    "\r\n",
    "\r\n",
    "\r\n",
    "\r\n",
    "\r\n",
    "\r\n",
    "# Plot Variant counts in SD\r\n",
    "\r\n",
    "# Plot Variant proportions in SD\r\n",
    "\r\n",
    "# Plot age distributions of new infections in SD\r\n",
    "\r\n",
    "\r\n",
    "\r\n",
    "\r\n",
    "\r\n",
    "\r\n",
    "# Other Page: \r\n",
    "# Vaccine rate in SD\r\n",
    "# Vaccine efficacy in SD for J&J, P, and M\r\n",
    "\r\n",
    "\r\n",
    "\r\n",
    "\r\n",
    "inputs = [num_init_label, num_init_slider, asymp_label, asymp_slider, init_sample_button]\r\n",
    "\r\n",
    "sidebar = wg.VBox(inputs, width='auto')\r\n",
    "\r\n",
    "# TODO: make right sidebar observe the left: in particular the onclick event\r\n",
    "# TODO: input sections:\r\n",
    "# \r\n",
    "\r\n",
    "\r\n"
   ],
   "outputs": [],
   "metadata": {}
  },
  {
   "cell_type": "code",
   "execution_count": 4,
   "source": [
    "### Center\r\n",
    "# format: VBox([HBox([plot1, plot2]), HBox([plot3, plot4]), ...])\r\n",
    "# with center_out: display(center_box)\r\n",
    "\r\n",
    "\r\n",
    "# center_box = wg.VBox([])\r\n",
    "## Text\r\n",
    "# ES_Plot\r\n",
    "# SI_Plot\r\n",
    "## Text\r\n",
    "# T_dist_Plot\r\n",
    "# T_time_Plot\r\n",
    "## Text\r\n",
    "# \r\n",
    "\r\n",
    "\r\n",
    "\r\n",
    "x_symp_count, countdown_curve, x_inf_list, inf_df = vh.sample_initial()\r\n",
    "fig_out = wg.Output()\r\n",
    "with fig_out:\r\n",
    "    ## Plot all outputs in the center column\r\n",
    "    \r\n",
    "    fig, axes = plt.subplots(18)\r\n",
    "    ax1, ax2, ax3, ax4 = axes.flatten()\r\n",
    "    \r\n",
    "    # Placeholder: Spline Serial Interval from Temporal paper\r\n",
    "    # ax0.plot()\r\n",
    "\r\n",
    "\r\n",
    "    # Density Plot: Infectivity (y) vs. Days (x) after symptom onset\r\n",
    "    ax1.plot(x_symp_count, countdown_curve.pdf(x_symp_count))\r\n",
    "    ax1.set_title('Expected days until symptoms appear')\r\n",
    "    ax1.set_xlabel('Number of days')\r\n",
    "    ax1.set_ylabel('Proportion of infected individuals')\r\n",
    "\r\n",
    "    # Density Plot: Likelihood of Symptom Onset (y) vs. Days (x) after Initial Infection\r\n",
    "    # line 1: Histogram\r\n",
    "    # line 2: Cumulative Histogram\r\n",
    "    ax2.plot(x_inf_list, inf_df.gamma)\r\n",
    "    ax2.set_title('Infectivity based on days post-symptom onset')\r\n",
    "    ax2.set_xlabel('Number of days after symptom onset')\r\n",
    "    ax2.set_ylabel('Initial Infectivity')\r\n",
    "    fig.tight_layout()\r\n",
    "\r\n",
    "    # Plot 3: infection rate vs distance for set time\r\n",
    "    ax3.plot(x_inf_list, inf_df.gamma)\r\n",
    "    ax3.set_title('Infection rate vs Distance for time:')\r\n",
    "    ax3.set_xlabel('Placeholder')\r\n",
    "    ax3.set_ylabel('Placeholder')\r\n",
    "    fig.tight_layout()\r\n",
    "\r\n",
    "    # Plot 4: infection rate vs time for set distance\r\n",
    "    ax4.plot(x_inf_list, inf_df.gamma)\r\n",
    "    ax4.set_title('Infection rate vs Time for Distance:')\r\n",
    "    ax4.set_xlabel('Placeholder')\r\n",
    "    ax4.set_ylabel('Placeholder')\r\n",
    "    fig.tight_layout()\r\n",
    "\r\n",
    "\r\n",
    "\r\n",
    "    # Show all plots\r\n",
    "    plt.show()\r\n",
    "    \r\n",
    "center_box = wg.VBox([]) # "
   ],
   "outputs": [],
   "metadata": {}
  },
  {
   "cell_type": "code",
   "execution_count": 5,
   "source": [
    "# Right Sidebar\r\n",
    "# Initial Infection Stats\r\n",
    "\r\n",
    "# When Sample is Generated: return n_initial samples of each distribution\r\n",
    "\r\n",
    "\r\n",
    "\r\n"
   ],
   "outputs": [],
   "metadata": {}
  },
  {
   "cell_type": "code",
   "execution_count": 6,
   "source": [
    "# Footer\r\n",
    "description_html = \"\"\"\r\n",
    "    <style>\r\n",
    "    p {\r\n",
    "        margin-bottom: 1.2em;\r\n",
    "        line-height: 1.5;\r\n",
    "        word-wrap: break-word;\r\n",
    "    }\r\n",
    "    </style>\r\n",
    "\r\n",
    "    <p>Special thanks to HDSI, and/or whoever else is paying us, and SD school district I guess </p>\r\n",
    "\"\"\"\r\n",
    "footer = wg.HTML(description_html)"
   ],
   "outputs": [],
   "metadata": {}
  },
  {
   "cell_type": "code",
   "execution_count": 7,
   "source": [
    "app = wg.AppLayout(\r\n",
    "    header=header, \r\n",
    "    left_sidebar=sidebar,\r\n",
    "    center=fig_out,\r\n",
    "    right_sidebar=None,\r\n",
    "    footer=footer,\r\n",
    "    pane_widths=[2, 3, 1],\r\n",
    "    pane_heights=[1, 5, 1],\r\n",
    ")"
   ],
   "outputs": [],
   "metadata": {}
  },
  {
   "cell_type": "code",
   "execution_count": 8,
   "source": [
    "app"
   ],
   "outputs": [
    {
     "output_type": "display_data",
     "data": {
      "text/plain": [
       "AppLayout(children=(HTML(value='\\n<style>\\np {\\n  margin-bottom: 1.2em;\\n  line-height: 1.5;\\n  word-wrap: bre…"
      ],
      "application/vnd.jupyter.widget-view+json": {
       "version_major": 2,
       "version_minor": 0,
       "model_id": "dca834c945e34440af194caed4a434e1"
      }
     },
     "metadata": {}
    }
   ],
   "metadata": {}
  },
  {
   "cell_type": "code",
   "execution_count": null,
   "source": [],
   "outputs": [],
   "metadata": {}
  },
  {
   "cell_type": "code",
   "execution_count": 14,
   "source": [
    "n = wg.IntSlider(value=3, min=0, max=10, step=1, description='N Samples: ')\r\n",
    "\r\n",
    "ES_distribution = 0 # Gamma\r\n",
    "SI_distribution = 1 # Lognorm\r\n",
    "\r\n",
    "def sample_initial(n):\r\n",
    "    '''\r\n",
    "    Take N samples of ES distribution\r\n",
    "    Take N samples of SI distribution\r\n",
    "\r\n",
    "    :param n: number of initial samples\r\n",
    "    '''\r\n",
    "    for i in range(n):\r\n",
    "        pass\r\n",
    "    print(n)\r\n",
    "\r\n",
    "out = wg.interactive_output(sample_initial, {'n': n})\r\n",
    "stack = wg.VBox([n, out])\r\n",
    "stack\r\n",
    "\r\n",
    "\r\n",
    "\r\n"
   ],
   "outputs": [
    {
     "output_type": "display_data",
     "data": {
      "text/plain": [
       "VBox(children=(IntSlider(value=3, description='N Samples: ', max=10), Output()))"
      ],
      "application/vnd.jupyter.widget-view+json": {
       "version_major": 2,
       "version_minor": 0,
       "model_id": "6d83053df27c4953a273daf895ac261a"
      }
     },
     "metadata": {}
    }
   ],
   "metadata": {}
  },
  {
   "cell_type": "code",
   "execution_count": 16,
   "source": [
    "newstring = str([str(i) + ', ' for i in range(10)])"
   ],
   "outputs": [],
   "metadata": {}
  },
  {
   "cell_type": "code",
   "execution_count": 17,
   "source": [
    "newstring"
   ],
   "outputs": [
    {
     "output_type": "execute_result",
     "data": {
      "text/plain": [
       "\"['0, ', '1, ', '2, ', '3, ', '4, ', '5, ', '6, ', '7, ', '8, ', '9, ']\""
      ]
     },
     "metadata": {},
     "execution_count": 17
    }
   ],
   "metadata": {}
  },
  {
   "cell_type": "code",
   "execution_count": null,
   "source": [],
   "outputs": [],
   "metadata": {}
  }
 ],
 "metadata": {
  "kernelspec": {
   "name": "python3",
   "display_name": "Python 3.9.5 64-bit"
  },
  "language_info": {
   "codemirror_mode": {
    "name": "ipython",
    "version": 3
   },
   "file_extension": ".py",
   "mimetype": "text/x-python",
   "name": "python",
   "nbconvert_exporter": "python",
   "pygments_lexer": "ipython3",
   "version": "3.9.5"
  },
  "interpreter": {
   "hash": "231ae2835a051cd6e0ae3ca1e441fabe4a59c28b7c0c9cc0d40aae2eb5ac288e"
  }
 },
 "nbformat": 4,
 "nbformat_minor": 5
}