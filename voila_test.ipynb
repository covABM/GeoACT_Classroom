{
 "cells": [
  {
   "cell_type": "code",
   "execution_count": 50,
   "source": [
    "%matplotlib inline\r\n",
    "import ipywidgets as wg\r\n",
    "import matplotlib as mpl\r\n",
    "import pandas as pd\r\n",
    "import numpy as np\r\n",
    "import random\r\n",
    "import itertools\r\n",
    "from matplotlib import colors\r\n",
    "import matplotlib.pyplot as plt\r\n",
    "from IPython.display import clear_output, display\r\n",
    "import plotly.graph_objects as go\r\n",
    "import plotly.express as px\r\n",
    "# import helper functions\r\n",
    "import voila_helper as vh\r\n",
    "import os\r\n",
    "\r\n",
    "np.random.seed(42)"
   ],
   "outputs": [],
   "metadata": {}
  },
  {
   "cell_type": "code",
   "execution_count": 72,
   "source": [
    "title_html = \"\"\"\r\n",
    "<style>\r\n",
    "p {\r\n",
    "  margin-bottom: 1.2em;\r\n",
    "  line-height: 1.5;\r\n",
    "  word-wrap: break-word;\r\n",
    "}\r\n",
    "p_todo {\r\n",
    "  font-size: smaller;\r\n",
    "}\r\n",
    "</style>\r\n",
    "\r\n",
    "<h2>GeoACT Parameter Visualizations</h2>\r\n",
    "\r\n",
    "<p_todo>TODO List: Last Updated 8/16 8:00 PM</p_todo>\r\n",
    "\r\n",
    "<p><a href=\"https://github.com/covABM/GeoACT_Classroom\">See the Codebase on GitHub</a></p>\r\n",
    "\r\n",
    "<p>LinkedIn profiles: \r\n",
    "<a href=\"https://www.linkedin.com/in/ilya-zaslavsky-7997ab7/\">Dr. Ilya Zaslavsky</a>, \r\n",
    "<a href=\"https://www.linkedin.com/in/kaushik-ram-ganapathy\">Kaushik Ganapathy</a>, and\r\n",
    "<a href=\"https://www.linkedin.com/in/bailey-man/\">Bailey Man</a></p>\r\n",
    "\"\"\"\r\n",
    "# Set title widget text\r\n",
    "header = wg.HTML(title_html)"
   ],
   "outputs": [],
   "metadata": {}
  },
  {
   "cell_type": "code",
   "execution_count": 79,
   "source": [
    "### Left Sidebar\r\n",
    "# TODO: \r\n",
    "# 1. add all inputs\r\n",
    "# 2. add text for all inputs\r\n",
    "# 3. add all outputs\r\n",
    "# 4. functionality\r\n",
    "# 5. model validity\r\n",
    "# 6. start paper: use placeholders sections to fill in for equations or figures\r\n",
    "# 7. Jupyter Book- host using GithHub Pages\r\n",
    "# 8. Integrate Google Sheets\r\n",
    "# 9. \r\n",
    "\r\n",
    "## Text describing user input\r\n",
    "\r\n",
    "## init sim button section for Temporal\r\n",
    "\r\n",
    "## All other input widgets: (for each plot)\r\n",
    "\r\n",
    "# Variants in Colors!!! 4 buttons in 2x2 grid\r\n",
    "# hbox([vbox([a, b]), vbox([c, d])])\r\n",
    "\r\n",
    "# \r\n",
    "\r\n",
    "\r\n",
    "\r\n",
    "\r\n",
    "# plt.ioff()\r\n",
    "\r\n",
    "num_init_label = wg.Label('Initial Samples n=')\r\n",
    "num_init_slider = wg.IntSlider(min=1, max=10, step=1, value=3)\r\n",
    "init_sample_button = wg.Button(description='Generate')\r\n",
    "asymp_label = wg.Label('% Chance Asymptomatic')\r\n",
    "asymp_slider = wg.FloatSlider(min=0, max=1, step=0.1, value=0.3)\r\n",
    "sample_output = wg.Output()\r\n",
    "def on_button_clicked(init_sample_button, sample_output):\r\n",
    "    with sample_output:\r\n",
    "        return vh.sample_initial(n_initial=sample_output.value,)\r\n",
    "\r\n",
    "init_sample_button.on_click(vh.sample_initial())\r\n",
    "\r\n",
    "inputs = [num_init_label, num_init_slider, asymp_label, asymp_slider, init_sample_button]\r\n",
    "\r\n",
    "sidebar = wg.VBox(inputs, width='auto')\r\n",
    "\r\n",
    "# TODO: make right sidebar observe the left: in particular the onclick event\r\n",
    "# TODO: input sections:\r\n",
    "# \r\n",
    "\r\n",
    "\r\n"
   ],
   "outputs": [],
   "metadata": {}
  },
  {
   "cell_type": "code",
   "execution_count": 74,
   "source": [
    "### Center\r\n",
    "\r\n",
    "x_symp_count, countdown_curve, x_inf_list, inf_df = vh.sample_initial()\r\n",
    "fig_out = wg.Output()\r\n",
    "with fig_out:\r\n",
    "    ## Plot all outputs in the center column\r\n",
    "    \r\n",
    "    # Placeholder: Spline Serial Interval from Temporal paper\r\n",
    "\r\n",
    "    # Density Plot: Infectivity (y) vs. Days (x) after symptom onset\r\n",
    "    fig, axes = plt.subplots(2)\r\n",
    "    ax1, ax2 = axes.flatten()\r\n",
    "    ax1.plot(x_symp_count, countdown_curve.pdf(x_symp_count))\r\n",
    "    ax1.set_title('Expected days until symptoms appear')\r\n",
    "    ax1.set_xlabel('Number of days')\r\n",
    "    ax1.set_ylabel('Proportion of infected individuals')\r\n",
    "\r\n",
    "    # Density Plot: Likelihood of Symptom Onset (y) vs. Days (x) after Initial Infection\r\n",
    "    # line 1: Histogram\r\n",
    "    # line 2: Cumulative Histogram\r\n",
    "    ax2.plot(x_inf_list, inf_df.gamma)\r\n",
    "    ax2.set_title('Infectivity based on days post-symptom onset')\r\n",
    "    ax2.set_xlabel('Number of days after symptom onset')\r\n",
    "    ax2.set_ylabel('Initial Infectivity')\r\n",
    "    fig.tight_layout()\r\n",
    "\r\n",
    "    # Placeholder: aerosol radius vs distance \r\n",
    "\r\n",
    "\r\n",
    "    # Placeholder: virion infectivity fro  m bazant\r\n",
    "\r\n",
    "\r\n",
    "    # Placeholder: Plot # infections (New and Estimated Active Total) of each variant in SD\r\n",
    "\r\n",
    "    ## Variant Differences in transmission rate:\r\n",
    "    # Sources: https://www.cdc.gov/coronavirus/2019-ncov/variants/variant.html\r\n",
    "    #        : \r\n",
    "    \r\n",
    "    ## Vaccine Efficacy of the different brands vs different variants:\r\n",
    "    # Vaccine Options: https://www.yalemedicine.org/news/covid-19-vaccine-comparison\r\n",
    "    # Alpha: \r\n",
    "    # Beta: \r\n",
    "    # Gamma: \r\n",
    "    # Delta: https://www.nejm.org/doi/full/10.1056/NEJMoa2108891\r\n",
    "\r\n",
    "    # Placeholder: Plot # deaths (New and Total) from vaccinated vs unvaccinated in SD\r\n",
    "    # Source: https://www.sandiegocounty.gov/content/dam/sdc/hhsa/programs/phs/Epidemiology/COVID-19%20Watch.pdf\r\n",
    "\r\n",
    "    # Placeholder: Plot # cases (New and Total) of vaccinated vs unvaccinated in SD\r\n",
    "\r\n",
    "    # Placeholder: Transmission rate vs Time (vax vs unvax)\r\n",
    "\r\n",
    "    # Placeholder: Well-Mixed Room\r\n",
    "\r\n",
    "    # Placeholder: Ventilation rate vs Aerosol Infection / time\r\n",
    "\r\n",
    "    # Placeholder: \r\n",
    "\r\n",
    "    # Show all plots\r\n",
    "    plt.show()\r\n",
    "    \r\n"
   ],
   "outputs": [],
   "metadata": {}
  },
  {
   "cell_type": "code",
   "execution_count": 75,
   "source": [
    "# Right Sidebar\r\n",
    "# Initial Infection Stats\r\n",
    "\r\n",
    "# When Sample is Generated: return n_initial samples of each distribution\r\n",
    "\r\n"
   ],
   "outputs": [],
   "metadata": {}
  },
  {
   "cell_type": "code",
   "execution_count": 76,
   "source": [
    "# Footer\r\n",
    "description_html = \"\"\"\r\n",
    "    <style>\r\n",
    "    p {\r\n",
    "        margin-bottom: 1.2em;\r\n",
    "        line-height: 1.5;\r\n",
    "        word-wrap: break-word;\r\n",
    "    }\r\n",
    "    </style>\r\n",
    "\r\n",
    "    <p>Special thanks to HDSI, and/or whoever else is paying us, and SD school district I guess </p>\r\n",
    "\"\"\"\r\n",
    "footer = wg.HTML(description_html)"
   ],
   "outputs": [],
   "metadata": {}
  },
  {
   "cell_type": "code",
   "execution_count": 77,
   "source": [
    "app = wg.AppLayout(\r\n",
    "    header=header, \r\n",
    "    left_sidebar=sidebar,\r\n",
    "    center=fig_out,\r\n",
    "    right_sidebar=None,\r\n",
    "    footer=footer,\r\n",
    "    pane_widths=[1, 3, 1],\r\n",
    "    pane_heights=[1, 5, 1],\r\n",
    ")"
   ],
   "outputs": [],
   "metadata": {}
  },
  {
   "cell_type": "code",
   "execution_count": 78,
   "source": [
    "app"
   ],
   "outputs": [
    {
     "output_type": "display_data",
     "data": {
      "text/plain": [
       "AppLayout(children=(HTML(value='\\n<style>\\np {\\n  margin-bottom: 1.2em;\\n  line-height: 1.5;\\n  word-wrap: bre…"
      ],
      "application/vnd.jupyter.widget-view+json": {
       "version_major": 2,
       "version_minor": 0,
       "model_id": "5243fda4903c49008b64f0189673109b"
      }
     },
     "metadata": {}
    }
   ],
   "metadata": {}
  },
  {
   "cell_type": "code",
   "execution_count": null,
   "source": [],
   "outputs": [],
   "metadata": {}
  },
  {
   "cell_type": "code",
   "execution_count": null,
   "source": [],
   "outputs": [],
   "metadata": {}
  },
  {
   "cell_type": "code",
   "execution_count": 41,
   "source": [
    "a = wg.IntSlider(description='a')\r\n",
    "b = wg.IntSlider(description='b')\r\n",
    "c = wg.IntSlider(description='c')\r\n",
    "def f(a, b, c):\r\n",
    "    print('{}*{}*{}={}'.format(a, b, c, a*b*c))\r\n",
    "\r\n",
    "out = wg.interactive_output(f, {'a': a, 'b': b, 'c': c})\r\n",
    "\r\n",
    "wg.HBox([wg.VBox([a, b, c]), out])"
   ],
   "outputs": [
    {
     "output_type": "display_data",
     "data": {
      "text/plain": [
       "HBox(children=(VBox(children=(IntSlider(value=0, description='a'), IntSlider(value=0, description='b'), IntSli…"
      ],
      "application/vnd.jupyter.widget-view+json": {
       "version_major": 2,
       "version_minor": 0,
       "model_id": "20989a9a83464a9fb32e1162cda00f54"
      }
     },
     "metadata": {}
    }
   ],
   "metadata": {}
  },
  {
   "cell_type": "code",
   "execution_count": null,
   "source": [],
   "outputs": [],
   "metadata": {}
  }
 ],
 "metadata": {
  "kernelspec": {
   "name": "python3",
   "display_name": "Python 3.9.5 64-bit"
  },
  "language_info": {
   "codemirror_mode": {
    "name": "ipython",
    "version": 3
   },
   "file_extension": ".py",
   "mimetype": "text/x-python",
   "name": "python",
   "nbconvert_exporter": "python",
   "pygments_lexer": "ipython3",
   "version": "3.9.5"
  },
  "interpreter": {
   "hash": "231ae2835a051cd6e0ae3ca1e441fabe4a59c28b7c0c9cc0d40aae2eb5ac288e"
  }
 },
 "nbformat": 4,
 "nbformat_minor": 5
}